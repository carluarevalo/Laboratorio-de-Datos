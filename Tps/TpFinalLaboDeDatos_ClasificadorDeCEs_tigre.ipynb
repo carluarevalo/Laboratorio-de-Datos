{
  "nbformat": 4,
  "nbformat_minor": 0,
  "metadata": {
    "colab": {
      "name": "TpFinalLaboDeDatos_ClasificadorDeCEs_tigre",
      "provenance": [],
      "collapsed_sections": []
    },
    "kernelspec": {
      "name": "python3",
      "display_name": "Python 3"
    },
    "language_info": {
      "name": "python"
    }
  },
  "cells": [
    {
      "cell_type": "markdown",
      "metadata": {
        "id": "hbfn_5mANP9Z"
      },
      "source": [
        "# Clasificación de Contactos Estrechos de casos positivos de COVID 19.\n",
        "El Ministerio de Salud de la Provincia de Buenos Aires, promueve la implementación de la identificación precoz y seguimiento de contactos estrechos de personas sospechosas o confirmadas de COVID 19.\n",
        "\n",
        "Es por ello que desarrolló una plataforma digital integrada, de acceso por internet, a la cual cada usuario accede por habilitación de la solicitud al Ministerio de Salud.\n",
        "\n",
        "La plataforma asistenciacovid.gba.gob.ar permite:\n",
        "\n",
        "● Identificar de forma precoz y sencilla de contactos estrechos de casos sospechosos y confirmados.\n",
        "\n",
        "● Registrar los seguimientos de los contactos estrechos.\n",
        "\n",
        "● Al ingresar información provincial, permite que el Municipio visualice y tome conocimiento de contactos estrechos en su territorio que son identificados en otro Municipio, y viceversa.\n",
        "\n",
        "● Interoperar directamente con la plataforma gestioncovid.gba.gob.ar, de manera que si un contacto pasa a ser sospechoso, éste es visualizado en tiempo real por el nivel Municipal, sin importar desde dónde se haga el registro (CAPS, domicilio de integrante del equipo de salud o CeTeC Municipal o Universitario).\n",
        "La definición y desarrollo de acciones de aislamiento y seguimiento específicas para el caso de contactos estrechos se fundamenta en limitar tempranamente el contacto físico de personas infectadas, para disminuir la transmisión persona a persona, siendo una de las medidas más eficaces para prevenir la propagación de la enfermedad. Este es el trabajo de, entre otros, Centros de Telemedicina COVID 19, uno de los cuales se encuentra operando en la Facultad de Ciencias Exactas y Naturales de la Universidad de Buenos Aires. Dicha sede se encarga específicamente de trabajar junto a los Municipios de Tigre y Vicente Lopez, ubicados en la Zona Norte del Gran Buenos Aires.\n",
        "\n",
        "Se nos ocurre que, además de la pronta identificación y aislamiento de contactos estrechos, resulta pertinente- sobretodo en plena segunda ola, cuando las UTI están saturadas y conseguir una cama para internación resulta imposible- la clasificación de éstos en base a su exposición al virus y demás factores que podrían devenir en un mayor riesgo, o no, de haberse contagiado, con el fin de poder destinar los recursos de mejor manera. \n",
        "\n",
        "***Objetivo***: En el siguiente trabajo fabricaremos un clasificador para contactos estrechos (CE) de casos positivos de Covid 19. \n",
        "Se utilizarán datos obtenidos de la base de datos de la página asistenciacovid.gob.ar, específicamente los de los Municipios de Vicente Lopez y Tigre con los que trabaja la Facultad desde el 1 de Enero de 2021 hasta el 31 de Mayo del idem.\n"
      ]
    },
    {
      "cell_type": "markdown",
      "metadata": {
        "id": "2L0ttsoKbv-j"
      },
      "source": [
        "**Paso 1:** Cargo todos los módulos que utilizaré a lo largo del proyecto."
      ]
    },
    {
      "cell_type": "code",
      "metadata": {
        "id": "96g1clf-5s9D"
      },
      "source": [
        "#Importo los módulos de pandas y numpy.\n",
        "import pandas as pd\n",
        "import numpy as np\n",
        "#Importo el módulo para leer archivos Excel.\n",
        "import xlrd\n",
        "#Importo el módulo OS.\n",
        "import os"
      ],
      "execution_count": null,
      "outputs": []
    },
    {
      "cell_type": "markdown",
      "metadata": {
        "id": "guE0gFSFcziU"
      },
      "source": [
        "**Paso dos:** genero los dataframes que contendrán la información para ambos Municipios."
      ]
    },
    {
      "cell_type": "markdown",
      "metadata": {
        "id": "ZNyVBwMWgS9T"
      },
      "source": [
        "***Para el Municipio de Tigre***"
      ]
    },
    {
      "cell_type": "code",
      "metadata": {
        "colab": {
          "base_uri": "https://localhost:8080/"
        },
        "id": "Baev2yiwNMNR",
        "outputId": "f7fd8c4a-e1cf-4654-c801-92bb9f7969ca"
      },
      "source": [
        "#Monto el drive.\n",
        "from google.colab import drive\n",
        "drive.mount('/content/drive') \n",
        "\n",
        "#Copio la location de todos los files de Tigre que vamos a estar queriendo abrir y convertir eventualmente en un mega dataframe.\n",
        "location = '/content/drive/My Drive/Covidata_team/Planillas_tigre_excel' \n",
        "\n",
        "#Seteo la location como directorio para ir a buscar ahí a todos los archivos.\n",
        "cwd = os.chdir(location)\n",
        "#Enlisto todos los nombres de los archivos que pertenecen al directorio declarado.\n",
        "files = os.listdir(cwd) \n",
        "\n",
        "#Todos los archivos son planillas de cálculo de Excel que contienen numerosas hojas. \n",
        "#Tres de ellas son las que contienen información de pacientes sospechosos de COVID, es decir quienes se hayan realizado hisopados,\n",
        "#la de contactos estrechos, que son quienes han sido declarados como contactos según el protocolo de GBA y a quienes se les hace\n",
        "#un seguimiento telefónico para evaluar sintomatología y necesidades urgentes durante su aislamiento domiciliario, y finalmente\n",
        "#la de inactivos, que son personas que o bien ya terminaron de transitar la enfermedad o se las dio de baja en la plataforma por\n",
        "#no poder ser comunicados durante la totalidad del ciclo de vida del virus. \n",
        "\n",
        "#Genero 2 dataframes vacíos.\n",
        "#Uno contendrá los casos sospechosos y el otro contendrá los contactos estrechos. La idea será volcar la información de las planillas en el dataframe correspondiente. \n",
        "sospechosos_tigre = pd.DataFrame()\n",
        "CEs_tigre = pd.DataFrame()\n",
        "inactivos_tigre = pd.DataFrame()\n",
        "\n",
        "#La idea ahora es recorrer toda la carpeta e ir pegando archivo por archivo en los dataframes correspondientes la información contenida en ellos.\n",
        "for i in files: #Por cada archivo en la carpeta de interés.\n",
        "   if i.endswith('.xlsx'):  #Si es un archivo de planilla de cálculo.\n",
        "     sospechosos_iterado_tigre = pd.read_excel(i, sheet_name=0, header=0, index_col=None, keep_default_na=True)\n",
        "     sospechosos_tigre = sospechosos_tigre.append(sospechosos_iterado_tigre, ignore_index = True)\n",
        "     CEs_iterado_tigre = pd.read_excel(i, sheet_name=1, header=0, index_col=None, keep_default_na=True)\n",
        "     CEs_tigre = CEs_tigre.append(CEs_iterado_tigre, ignore_index = True)\n",
        "     inactivos_iterado_tigre = pd.read_excel(i, sheet_name=2, header=0, index_col=None, keep_default_na=True)\n",
        "     inactivos_tigre = inactivos_tigre.append(inactivos_iterado_tigre, ignore_index = True)"
      ],
      "execution_count": null,
      "outputs": [
        {
          "output_type": "stream",
          "text": [
            "Mounted at /content/drive\n"
          ],
          "name": "stdout"
        }
      ]
    },
    {
      "cell_type": "code",
      "metadata": {
        "colab": {
          "base_uri": "https://localhost:8080/",
          "height": 949
        },
        "id": "Ls3jHCs42QYR",
        "outputId": "2dab0a9c-b719-4a0a-b744-9d8f61da171e"
      },
      "source": [
        "CEs_tigre\n"
      ],
      "execution_count": null,
      "outputs": [
        {
          "output_type": "execute_result",
          "data": {
            "text/html": [
              "<div>\n",
              "<style scoped>\n",
              "    .dataframe tbody tr th:only-of-type {\n",
              "        vertical-align: middle;\n",
              "    }\n",
              "\n",
              "    .dataframe tbody tr th {\n",
              "        vertical-align: top;\n",
              "    }\n",
              "\n",
              "    .dataframe thead th {\n",
              "        text-align: right;\n",
              "    }\n",
              "</style>\n",
              "<table border=\"1\" class=\"dataframe\">\n",
              "  <thead>\n",
              "    <tr style=\"text-align: right;\">\n",
              "      <th></th>\n",
              "      <th>Nombre</th>\n",
              "      <th>Apellido</th>\n",
              "      <th>documento</th>\n",
              "      <th>Info contacto</th>\n",
              "      <th>Teléfono</th>\n",
              "      <th>Domicilio</th>\n",
              "      <th>Email</th>\n",
              "      <th>Nacimiento</th>\n",
              "      <th>Dias_con_sintomas</th>\n",
              "      <th>Ultimo Contacto</th>\n",
              "      <th>Fecha_apertura</th>\n",
              "      <th>Establecimiento</th>\n",
              "      <th>Seguimientos_pendientes</th>\n",
              "      <th>Clasificacion</th>\n",
              "      <th>Observación</th>\n",
              "    </tr>\n",
              "  </thead>\n",
              "  <tbody>\n",
              "    <tr>\n",
              "      <th>0</th>\n",
              "      <td>MARIO ALBERTO</td>\n",
              "      <td>PEREYRA</td>\n",
              "      <td>33835826</td>\n",
              "      <td>1131393161</td>\n",
              "      <td>NaN</td>\n",
              "      <td>BOULOGNE SOUMER 1393</td>\n",
              "      <td>NaN</td>\n",
              "      <td>1987-12-17</td>\n",
              "      <td>331</td>\n",
              "      <td>NaN</td>\n",
              "      <td>2020-06-27</td>\n",
              "      <td>NaN</td>\n",
              "      <td>SIN SEGUIMIENTO</td>\n",
              "      <td>Contacto Estrecho</td>\n",
              "      <td>NaN</td>\n",
              "    </tr>\n",
              "    <tr>\n",
              "      <th>1</th>\n",
              "      <td>GISELLE LUANA</td>\n",
              "      <td>LEDESMA</td>\n",
              "      <td>42236718</td>\n",
              "      <td></td>\n",
              "      <td>NaN</td>\n",
              "      <td>LAS DALIAS 2305</td>\n",
              "      <td>capslapaloma@gmail.com</td>\n",
              "      <td>2000-01-08</td>\n",
              "      <td>328</td>\n",
              "      <td>NaN</td>\n",
              "      <td>2020-06-08</td>\n",
              "      <td>Centro de Salud Rincón</td>\n",
              "      <td>SIN SEGUIMIENTO</td>\n",
              "      <td>Contacto Estrecho</td>\n",
              "      <td>\\n --- fecha de inicio de sintomas mal cargada...</td>\n",
              "    </tr>\n",
              "    <tr>\n",
              "      <th>2</th>\n",
              "      <td>MELISA NEREA</td>\n",
              "      <td>GONZALEZ</td>\n",
              "      <td>35754800</td>\n",
              "      <td></td>\n",
              "      <td>1164529892</td>\n",
              "      <td>URUGUAY 1879</td>\n",
              "      <td>capslapaloma@tigre.gob.ar</td>\n",
              "      <td>1991-07-25</td>\n",
              "      <td>327</td>\n",
              "      <td>2021-02-21T00:00:00-0300</td>\n",
              "      <td>2020-06-24</td>\n",
              "      <td>Unidad Sanitaria La Paloma</td>\n",
              "      <td>75</td>\n",
              "      <td>Contacto Estrecho</td>\n",
              "      <td>necesita el certificado de aislamiento</td>\n",
              "    </tr>\n",
              "    <tr>\n",
              "      <th>3</th>\n",
              "      <td>ELSA LUISA</td>\n",
              "      <td>TUMBARELLO</td>\n",
              "      <td>18553230</td>\n",
              "      <td></td>\n",
              "      <td>NaN</td>\n",
              "      <td>ECUADOR 1510</td>\n",
              "      <td>NaN</td>\n",
              "      <td>1967-08-17</td>\n",
              "      <td>294</td>\n",
              "      <td>NaN</td>\n",
              "      <td>2020-07-23</td>\n",
              "      <td>NaN</td>\n",
              "      <td>SIN SEGUIMIENTO</td>\n",
              "      <td>Contacto Estrecho</td>\n",
              "      <td>\\n --- fecha de inicio de sintomas mal cargada...</td>\n",
              "    </tr>\n",
              "    <tr>\n",
              "      <th>4</th>\n",
              "      <td>VICTOR EZEQUIEL</td>\n",
              "      <td>GONZALEZ</td>\n",
              "      <td>32255226</td>\n",
              "      <td>1551140597</td>\n",
              "      <td>1130677209</td>\n",
              "      <td>CERVIÑO 2836</td>\n",
              "      <td>NaN</td>\n",
              "      <td>1986-01-26</td>\n",
              "      <td>287</td>\n",
              "      <td>NaN</td>\n",
              "      <td>2020-07-30</td>\n",
              "      <td>NaN</td>\n",
              "      <td>SIN SEGUIMIENTO</td>\n",
              "      <td>Contacto Estrecho</td>\n",
              "      <td>NaN</td>\n",
              "    </tr>\n",
              "    <tr>\n",
              "      <th>...</th>\n",
              "      <td>...</td>\n",
              "      <td>...</td>\n",
              "      <td>...</td>\n",
              "      <td>...</td>\n",
              "      <td>...</td>\n",
              "      <td>...</td>\n",
              "      <td>...</td>\n",
              "      <td>...</td>\n",
              "      <td>...</td>\n",
              "      <td>...</td>\n",
              "      <td>...</td>\n",
              "      <td>...</td>\n",
              "      <td>...</td>\n",
              "      <td>...</td>\n",
              "      <td>...</td>\n",
              "    </tr>\n",
              "    <tr>\n",
              "      <th>280260</th>\n",
              "      <td>florencia</td>\n",
              "      <td>villaverde</td>\n",
              "      <td>468112475</td>\n",
              "      <td>NaN</td>\n",
              "      <td>1540508296</td>\n",
              "      <td>GUIRALDES 2752</td>\n",
              "      <td>NaN</td>\n",
              "      <td>2021-05-28</td>\n",
              "      <td>--</td>\n",
              "      <td>2021-05-26T00:00:00-0300</td>\n",
              "      <td>NaT</td>\n",
              "      <td>Hospital Materno Infantil Dr. Florencio Escardo</td>\n",
              "      <td>1</td>\n",
              "      <td>Contacto Estrecho</td>\n",
              "      <td>Nietx de claudio(+). Viven con Marta (+, mamá ...</td>\n",
              "    </tr>\n",
              "    <tr>\n",
              "      <th>280261</th>\n",
              "      <td>Chiara</td>\n",
              "      <td>Villaverde</td>\n",
              "      <td>468112474</td>\n",
              "      <td>NaN</td>\n",
              "      <td>1540508296</td>\n",
              "      <td>GUIRALDES 2752</td>\n",
              "      <td>NaN</td>\n",
              "      <td>2021-05-28</td>\n",
              "      <td>--</td>\n",
              "      <td>2021-05-26T00:00:00-0300</td>\n",
              "      <td>NaT</td>\n",
              "      <td>Hospital Materno Infantil Dr. Florencio Escardo</td>\n",
              "      <td>1</td>\n",
              "      <td>Contacto Estrecho</td>\n",
              "      <td>Nietx de claudio(+). Viven con Marta (+, mamá ...</td>\n",
              "    </tr>\n",
              "    <tr>\n",
              "      <th>280262</th>\n",
              "      <td>marta</td>\n",
              "      <td>cancino</td>\n",
              "      <td>468112471</td>\n",
              "      <td>NaN</td>\n",
              "      <td>1540508296</td>\n",
              "      <td>GUIRALDES 2752</td>\n",
              "      <td>NaN</td>\n",
              "      <td>2021-05-28</td>\n",
              "      <td>--</td>\n",
              "      <td>2021-05-26T00:00:00-0300</td>\n",
              "      <td>NaT</td>\n",
              "      <td>Hospital Materno Infantil Dr. Florencio Escardo</td>\n",
              "      <td>1</td>\n",
              "      <td>Contacto Estrecho</td>\n",
              "      <td>Nietx de claudio(+). Viven con Marta (+, mamá ...</td>\n",
              "    </tr>\n",
              "    <tr>\n",
              "      <th>280263</th>\n",
              "      <td>Candela</td>\n",
              "      <td>Villaverde</td>\n",
              "      <td>468112473</td>\n",
              "      <td>NaN</td>\n",
              "      <td>1540508296</td>\n",
              "      <td>GUIRALDES 2752</td>\n",
              "      <td>NaN</td>\n",
              "      <td>2021-05-28</td>\n",
              "      <td>--</td>\n",
              "      <td>2021-05-27T00:00:00-0300</td>\n",
              "      <td>NaT</td>\n",
              "      <td>Hospital Materno Infantil Dr. Florencio Escardo</td>\n",
              "      <td>1</td>\n",
              "      <td>Contacto Estrecho</td>\n",
              "      <td>Nietx de claudio(+). Viven con Marta (+, mamá ...</td>\n",
              "    </tr>\n",
              "    <tr>\n",
              "      <th>280264</th>\n",
              "      <td>CINTIA</td>\n",
              "      <td>Rodriguez</td>\n",
              "      <td>123123000</td>\n",
              "      <td>NaN</td>\n",
              "      <td>1140749293</td>\n",
              "      <td>JUAN M. DE ROSAS 1556</td>\n",
              "      <td>NaN</td>\n",
              "      <td>1983-05-05</td>\n",
              "      <td>--</td>\n",
              "      <td>2021-05-29T00:00:00-0300</td>\n",
              "      <td>NaT</td>\n",
              "      <td>Hospital Materno Infantil Dr. Florencio Escardo</td>\n",
              "      <td>1</td>\n",
              "      <td>Contacto Estrecho</td>\n",
              "      <td>NaN</td>\n",
              "    </tr>\n",
              "  </tbody>\n",
              "</table>\n",
              "<p>280265 rows × 15 columns</p>\n",
              "</div>"
            ],
            "text/plain": [
              "                 Nombre  ...                                        Observación\n",
              "0         MARIO ALBERTO  ...                                                NaN\n",
              "1         GISELLE LUANA  ...  \\n --- fecha de inicio de sintomas mal cargada...\n",
              "2          MELISA NEREA  ...             necesita el certificado de aislamiento\n",
              "3            ELSA LUISA  ...  \\n --- fecha de inicio de sintomas mal cargada...\n",
              "4       VICTOR EZEQUIEL  ...                                                NaN\n",
              "...                 ...  ...                                                ...\n",
              "280260        florencia  ...  Nietx de claudio(+). Viven con Marta (+, mamá ...\n",
              "280261           Chiara  ...  Nietx de claudio(+). Viven con Marta (+, mamá ...\n",
              "280262            marta  ...  Nietx de claudio(+). Viven con Marta (+, mamá ...\n",
              "280263          Candela  ...  Nietx de claudio(+). Viven con Marta (+, mamá ...\n",
              "280264          CINTIA   ...                                                NaN\n",
              "\n",
              "[280265 rows x 15 columns]"
            ]
          },
          "metadata": {
            "tags": []
          },
          "execution_count": 4
        }
      ]
    },
    {
      "cell_type": "markdown",
      "metadata": {
        "id": "ysG_qp5g3dEz"
      },
      "source": [
        "Voy a quedarme sólo con algunas columnas de los DFs originales, eliminando toda la información que pareciera no sumar al análisis que vamos a querer hacer. Así que recortaré el DF para quedarme sólo con los nombres, números de documento, domicilios, fechas de nacimiento, fecha de inicio de síntomas, clasificación del paciente (Sospechoso, Confirmado, Descartado), fecha de último contacto, la cantidad de seguimientos pendientes y las observaciones (una columna en la que los operadores de los centros pueden escribir observaciones del caso, feature fundamental sobretodo para los contactos estrechos)."
      ]
    },
    {
      "cell_type": "code",
      "metadata": {
        "id": "ezc5l0TCQOpy"
      },
      "source": [
        "sospechosos_tigre = sospechosos_tigre[['Nombre', 'Apellido', 'documento', 'Domicilio', 'Nacimiento', 'FApertura', 'FISintomas', 'Clasificacion', 'Observación']].copy()\n",
        "CEs_tigre = CEs_tigre[['Nombre', 'Apellido', 'documento', 'Teléfono', 'Domicilio', 'Nacimiento', 'Dias_con_sintomas', 'Ultimo Contacto', 'Establecimiento', 'Seguimientos_pendientes', 'Clasificacion', 'Observación']].copy()\n",
        "inactivos_tigre = inactivos_tigre[['Nombre', 'Apellido', 'documento', 'Teléfono', 'Domicilio', 'Nacimiento', 'Dias_con_sintomas', 'Ultimo Contacto', 'Establecimiento', 'Seguimientos_pendientes', 'Clasificacion', 'Observación']].copy()"
      ],
      "execution_count": null,
      "outputs": []
    },
    {
      "cell_type": "markdown",
      "metadata": {
        "id": "bNRQd6Zderd9"
      },
      "source": [
        "El problema al que me enfrento ahora es que la información en las planillas puede estar repetida.\n",
        "\n",
        "Por ejemplo, en el caso de los sospechosos, éstos pueden estar repetidos si no logran ser contactados telefónicamente para hacer la búsqueda de sus contactos estrechos. El protocolo del CeTeC llama múltiples veces a lo largo de varios días hasta que el sospechoso contesta. En caso contrario, se suspende la búsqueda para dicha persona. También, en el caso de los contactos estrechos, éstos siempre figurarán repetidamente en la planilla a lo largo de un par de días pues la función del CeTec es hacer un seguimiento de forma diaria o día por medio de sus síntomas o necesidades durante el aislamiento en sus domicilios. \n",
        "\n",
        "Por lo tanto, acondicionaré los dataframes de manera tal que figure sólo 1 fila de la información del contacto estrecho en cuestión. \n",
        "\n",
        "En particular, como a la hora de hacer los llamados de averiguación de contactos estrechos o seguimientos a dichos CEs muchas veces se encuentra información que pudiera ser relevante y como los trabajadores del CeTeC depositan esta información actualizándola día a día en la columna de Observaciones, me quedo sólo con la última fila para dichos casos, siguiendo esos tiempos. "
      ]
    },
    {
      "cell_type": "markdown",
      "metadata": {
        "id": "7WTjvQZUhgC9"
      },
      "source": [
        "**Paso 3:** acondicionamiento de los data frames."
      ]
    },
    {
      "cell_type": "code",
      "metadata": {
        "id": "76UapBprwLQz"
      },
      "source": [
        "#Lo que voy a querer hacer ahora es eliminar las filas duplicadas. \n",
        "#Voy a hacer que el método conserve sólo la última aparición del número de DNI. \n",
        "sospechosos_tigre = sospechosos_tigre.drop_duplicates(subset='documento', keep='last', inplace=False, ignore_index=False)\n",
        "CEs_tigre = CEs_tigre.drop_duplicates(subset='documento', keep='last', inplace=False, ignore_index=False)\n",
        "inactivos_tigre = inactivos_tigre.drop_duplicates(subset='documento', keep='last', inplace=False, ignore_index=False)"
      ],
      "execution_count": null,
      "outputs": []
    },
    {
      "cell_type": "code",
      "metadata": {
        "colab": {
          "base_uri": "https://localhost:8080/"
        },
        "id": "P__72M5wOqAN",
        "outputId": "222fcc48-8cda-437f-84b7-864fc4a92707"
      },
      "source": [
        "len(sospechosos_tigre[sospechosos_tigre[\"Clasificacion\"]==\"Sospechoso\"])"
      ],
      "execution_count": null,
      "outputs": [
        {
          "output_type": "execute_result",
          "data": {
            "text/plain": [
              "24065"
            ]
          },
          "metadata": {
            "tags": []
          },
          "execution_count": 171
        }
      ]
    },
    {
      "cell_type": "code",
      "metadata": {
        "colab": {
          "base_uri": "https://localhost:8080/",
          "height": 589
        },
        "id": "IO9jEPE7Qr2i",
        "outputId": "b64ad2af-c26a-46ec-de8b-214e515a1f11"
      },
      "source": [
        "sospechosos_tigre"
      ],
      "execution_count": null,
      "outputs": [
        {
          "output_type": "execute_result",
          "data": {
            "text/html": [
              "<div>\n",
              "<style scoped>\n",
              "    .dataframe tbody tr th:only-of-type {\n",
              "        vertical-align: middle;\n",
              "    }\n",
              "\n",
              "    .dataframe tbody tr th {\n",
              "        vertical-align: top;\n",
              "    }\n",
              "\n",
              "    .dataframe thead th {\n",
              "        text-align: right;\n",
              "    }\n",
              "</style>\n",
              "<table border=\"1\" class=\"dataframe\">\n",
              "  <thead>\n",
              "    <tr style=\"text-align: right;\">\n",
              "      <th></th>\n",
              "      <th>Nombre</th>\n",
              "      <th>Apellido</th>\n",
              "      <th>documento</th>\n",
              "      <th>Domicilio</th>\n",
              "      <th>Nacimiento</th>\n",
              "      <th>FApertura</th>\n",
              "      <th>FISintomas</th>\n",
              "      <th>Clasificacion</th>\n",
              "      <th>Observación</th>\n",
              "    </tr>\n",
              "  </thead>\n",
              "  <tbody>\n",
              "    <tr>\n",
              "      <th>2</th>\n",
              "      <td>ANABELA</td>\n",
              "      <td>RODRIGUEZ</td>\n",
              "      <td>21637695</td>\n",
              "      <td>ECUADOR 845</td>\n",
              "      <td>1971-01-20</td>\n",
              "      <td>2021-05-09</td>\n",
              "      <td>NaT</td>\n",
              "      <td>Sospechoso</td>\n",
              "      <td>\\n --- fecha de inicio de sintomas mal cargada</td>\n",
              "    </tr>\n",
              "    <tr>\n",
              "      <th>17</th>\n",
              "      <td>OSVALDO JORGE</td>\n",
              "      <td>GARIBALDI</td>\n",
              "      <td>8519509</td>\n",
              "      <td>COLOMBRES 80</td>\n",
              "      <td>1951-03-30</td>\n",
              "      <td>2021-05-09</td>\n",
              "      <td>NaT</td>\n",
              "      <td>Sospechoso</td>\n",
              "      <td>\\n --- fecha de inicio de sintomas mal cargada</td>\n",
              "    </tr>\n",
              "    <tr>\n",
              "      <th>26</th>\n",
              "      <td>JULIANA</td>\n",
              "      <td>CALLEJON</td>\n",
              "      <td>37685874</td>\n",
              "      <td>ARROYO ANGOSTURA 0</td>\n",
              "      <td>1991-07-21</td>\n",
              "      <td>2021-05-09</td>\n",
              "      <td>NaT</td>\n",
              "      <td>Sospechoso</td>\n",
              "      <td>\\n --- fecha de inicio de sintomas mal cargada</td>\n",
              "    </tr>\n",
              "    <tr>\n",
              "      <th>30</th>\n",
              "      <td>CRISTIAN GUILLERMO RAUL</td>\n",
              "      <td>GUZMAN</td>\n",
              "      <td>29171235</td>\n",
              "      <td>AUSTRALIA 2983</td>\n",
              "      <td>1981-11-05</td>\n",
              "      <td>2021-05-09</td>\n",
              "      <td>NaT</td>\n",
              "      <td>Sospechoso</td>\n",
              "      <td>\\n --- fecha de inicio de sintomas mal cargada</td>\n",
              "    </tr>\n",
              "    <tr>\n",
              "      <th>42</th>\n",
              "      <td>MARIA EMILIA</td>\n",
              "      <td>MARCHIORI</td>\n",
              "      <td>44725230</td>\n",
              "      <td>CHILE 3265</td>\n",
              "      <td>2003-03-10</td>\n",
              "      <td>2021-05-09</td>\n",
              "      <td>NaT</td>\n",
              "      <td>Sospechoso</td>\n",
              "      <td>\\n --- fecha de inicio de sintomas mal cargada</td>\n",
              "    </tr>\n",
              "    <tr>\n",
              "      <th>...</th>\n",
              "      <td>...</td>\n",
              "      <td>...</td>\n",
              "      <td>...</td>\n",
              "      <td>...</td>\n",
              "      <td>...</td>\n",
              "      <td>...</td>\n",
              "      <td>...</td>\n",
              "      <td>...</td>\n",
              "      <td>...</td>\n",
              "    </tr>\n",
              "    <tr>\n",
              "      <th>436362</th>\n",
              "      <td>TEODORA EDUARDA</td>\n",
              "      <td>ARELLANO TRINIDAD</td>\n",
              "      <td>19039486</td>\n",
              "      <td>LOS ALELIES 2175</td>\n",
              "      <td>1956-10-12</td>\n",
              "      <td>2021-05-26</td>\n",
              "      <td>NaT</td>\n",
              "      <td>Confirmado</td>\n",
              "      <td>\\n --- fecha de inicio de sintomas mal cargada</td>\n",
              "    </tr>\n",
              "    <tr>\n",
              "      <th>436363</th>\n",
              "      <td>CARLOS ADALBERTO</td>\n",
              "      <td>BALDUNCIEL</td>\n",
              "      <td>16476171</td>\n",
              "      <td>GODOY CRUZ 1149</td>\n",
              "      <td>1963-08-06</td>\n",
              "      <td>2021-05-28</td>\n",
              "      <td>NaT</td>\n",
              "      <td>Confirmado</td>\n",
              "      <td>\\n --- fecha de inicio de sintomas mal cargada</td>\n",
              "    </tr>\n",
              "    <tr>\n",
              "      <th>436364</th>\n",
              "      <td>NADIA GISELA</td>\n",
              "      <td>CASTELO</td>\n",
              "      <td>29436449</td>\n",
              "      <td>MARCOS SASTRE 2492</td>\n",
              "      <td>1982-03-24</td>\n",
              "      <td>2021-05-27</td>\n",
              "      <td>NaT</td>\n",
              "      <td>Confirmado</td>\n",
              "      <td>\\n --- fecha de inicio de sintomas mal cargada</td>\n",
              "    </tr>\n",
              "    <tr>\n",
              "      <th>436365</th>\n",
              "      <td>PATRICIA LAURA</td>\n",
              "      <td>SANTIAGO</td>\n",
              "      <td>22847991</td>\n",
              "      <td>DEL CASSE 3204</td>\n",
              "      <td>1972-07-25</td>\n",
              "      <td>2021-05-28</td>\n",
              "      <td>NaT</td>\n",
              "      <td>Confirmado</td>\n",
              "      <td>\\n --- fecha de inicio de sintomas mal cargada</td>\n",
              "    </tr>\n",
              "    <tr>\n",
              "      <th>436366</th>\n",
              "      <td>MARTIN MIGUEL</td>\n",
              "      <td>DE ACHAVAL</td>\n",
              "      <td>37988839</td>\n",
              "      <td>AV. DE LOS CONSTITUYENTES 7245</td>\n",
              "      <td>1993-11-08</td>\n",
              "      <td>2021-05-30</td>\n",
              "      <td>NaT</td>\n",
              "      <td>Sospechoso</td>\n",
              "      <td>\\n --- fecha de inicio de sintomas mal cargada</td>\n",
              "    </tr>\n",
              "  </tbody>\n",
              "</table>\n",
              "<p>45620 rows × 9 columns</p>\n",
              "</div>"
            ],
            "text/plain": [
              "                         Nombre  ...                                      Observación\n",
              "2                       ANABELA  ...  \\n --- fecha de inicio de sintomas mal cargada \n",
              "17                OSVALDO JORGE  ...  \\n --- fecha de inicio de sintomas mal cargada \n",
              "26                      JULIANA  ...  \\n --- fecha de inicio de sintomas mal cargada \n",
              "30      CRISTIAN GUILLERMO RAUL  ...  \\n --- fecha de inicio de sintomas mal cargada \n",
              "42                 MARIA EMILIA  ...  \\n --- fecha de inicio de sintomas mal cargada \n",
              "...                         ...  ...                                              ...\n",
              "436362          TEODORA EDUARDA  ...  \\n --- fecha de inicio de sintomas mal cargada \n",
              "436363         CARLOS ADALBERTO  ...  \\n --- fecha de inicio de sintomas mal cargada \n",
              "436364             NADIA GISELA  ...  \\n --- fecha de inicio de sintomas mal cargada \n",
              "436365           PATRICIA LAURA  ...  \\n --- fecha de inicio de sintomas mal cargada \n",
              "436366            MARTIN MIGUEL  ...  \\n --- fecha de inicio de sintomas mal cargada \n",
              "\n",
              "[45620 rows x 9 columns]"
            ]
          },
          "metadata": {
            "tags": []
          },
          "execution_count": 178
        }
      ]
    },
    {
      "cell_type": "code",
      "metadata": {
        "colab": {
          "base_uri": "https://localhost:8080/"
        },
        "id": "liIIlhBULQf5",
        "outputId": "75386126-8db0-4cd7-e56f-0241760075d1"
      },
      "source": [
        "len(inactivos_tigre[~inactivos_tigre.documento.isin(CEs_tigre.documento)])\n"
      ],
      "execution_count": null,
      "outputs": [
        {
          "output_type": "execute_result",
          "data": {
            "text/plain": [
              "439"
            ]
          },
          "metadata": {
            "tags": []
          },
          "execution_count": 151
        }
      ]
    },
    {
      "cell_type": "code",
      "metadata": {
        "colab": {
          "base_uri": "https://localhost:8080/",
          "height": 813
        },
        "id": "u7CYfA-FM2Rr",
        "outputId": "9213a2c8-3df3-438e-b5ea-294c7526ec7f"
      },
      "source": [
        "inactivos_tigre[~inactivos_tigre.documento.isin(CEs_tigre.documento)]"
      ],
      "execution_count": null,
      "outputs": [
        {
          "output_type": "execute_result",
          "data": {
            "text/html": [
              "<div>\n",
              "<style scoped>\n",
              "    .dataframe tbody tr th:only-of-type {\n",
              "        vertical-align: middle;\n",
              "    }\n",
              "\n",
              "    .dataframe tbody tr th {\n",
              "        vertical-align: top;\n",
              "    }\n",
              "\n",
              "    .dataframe thead th {\n",
              "        text-align: right;\n",
              "    }\n",
              "</style>\n",
              "<table border=\"1\" class=\"dataframe\">\n",
              "  <thead>\n",
              "    <tr style=\"text-align: right;\">\n",
              "      <th></th>\n",
              "      <th>Nombre</th>\n",
              "      <th>Apellido</th>\n",
              "      <th>documento</th>\n",
              "      <th>Teléfono</th>\n",
              "      <th>Domicilio</th>\n",
              "      <th>Nacimiento</th>\n",
              "      <th>Dias_con_sintomas</th>\n",
              "      <th>Ultimo Contacto</th>\n",
              "      <th>Establecimiento</th>\n",
              "      <th>Seguimientos_pendientes</th>\n",
              "      <th>Clasificacion</th>\n",
              "      <th>Observación</th>\n",
              "    </tr>\n",
              "  </thead>\n",
              "  <tbody>\n",
              "    <tr>\n",
              "      <th>4633</th>\n",
              "      <td>Abril</td>\n",
              "      <td>ORLANDINI</td>\n",
              "      <td>4.26606e+07</td>\n",
              "      <td>1167106534</td>\n",
              "      <td>Bernárdez Ylorca</td>\n",
              "      <td>2021-05-06</td>\n",
              "      <td>--</td>\n",
              "      <td>NaN</td>\n",
              "      <td>Hospital Municipal San José</td>\n",
              "      <td>2</td>\n",
              "      <td>Contacto Estrecho</td>\n",
              "      <td>FUC: 2/5.</td>\n",
              "    </tr>\n",
              "    <tr>\n",
              "      <th>8114</th>\n",
              "      <td>Juana</td>\n",
              "      <td>Ciseros</td>\n",
              "      <td>4.46642e+06</td>\n",
              "      <td>1137745122</td>\n",
              "      <td>CHILE 978</td>\n",
              "      <td>1942-06-24</td>\n",
              "      <td>--</td>\n",
              "      <td>NaN</td>\n",
              "      <td>Hospital Municipal San José</td>\n",
              "      <td>10</td>\n",
              "      <td>Contacto Estrecho</td>\n",
              "      <td>Pasa a sospechoso porque presento fiebre en el...</td>\n",
              "    </tr>\n",
              "    <tr>\n",
              "      <th>8115</th>\n",
              "      <td>Camila</td>\n",
              "      <td>Benites</td>\n",
              "      <td>2.3236e+11</td>\n",
              "      <td>2323604511</td>\n",
              "      <td>no se</td>\n",
              "      <td>2021-04-15</td>\n",
              "      <td>--</td>\n",
              "      <td>NaN</td>\n",
              "      <td>Hospital Municipal San José</td>\n",
              "      <td>-</td>\n",
              "      <td>Contacto Estrecho</td>\n",
              "      <td>FALTA primer seguimiento. MAL FUC DNI y fecha ...</td>\n",
              "    </tr>\n",
              "    <tr>\n",
              "      <th>8116</th>\n",
              "      <td>Emanuel</td>\n",
              "      <td>Ehessel</td>\n",
              "      <td>3.36518e+07</td>\n",
              "      <td>1133315833</td>\n",
              "      <td>GUIDO SPANO 53</td>\n",
              "      <td>1987-09-21</td>\n",
              "      <td>--</td>\n",
              "      <td>NaN</td>\n",
              "      <td>Hospital Municipal San José</td>\n",
              "      <td>-</td>\n",
              "      <td>Contacto Estrecho</td>\n",
              "      <td>NaN</td>\n",
              "    </tr>\n",
              "    <tr>\n",
              "      <th>8117</th>\n",
              "      <td>Joac Yair</td>\n",
              "      <td>Ehessel</td>\n",
              "      <td>1.12738e+11</td>\n",
              "      <td>1127375568</td>\n",
              "      <td>GUIDO SPANO 53</td>\n",
              "      <td>2021-04-15</td>\n",
              "      <td>--</td>\n",
              "      <td>NaN</td>\n",
              "      <td>Hospital Municipal San José</td>\n",
              "      <td>-</td>\n",
              "      <td>Contacto Estrecho</td>\n",
              "      <td>NaN</td>\n",
              "    </tr>\n",
              "    <tr>\n",
              "      <th>...</th>\n",
              "      <td>...</td>\n",
              "      <td>...</td>\n",
              "      <td>...</td>\n",
              "      <td>...</td>\n",
              "      <td>...</td>\n",
              "      <td>...</td>\n",
              "      <td>...</td>\n",
              "      <td>...</td>\n",
              "      <td>...</td>\n",
              "      <td>...</td>\n",
              "      <td>...</td>\n",
              "      <td>...</td>\n",
              "    </tr>\n",
              "    <tr>\n",
              "      <th>33348</th>\n",
              "      <td>Hugo Ricardo</td>\n",
              "      <td>ALBORNOZ</td>\n",
              "      <td>8.48741e+06</td>\n",
              "      <td>1562476037</td>\n",
              "      <td>RICARDO BALBIN 1240</td>\n",
              "      <td>1950-10-20</td>\n",
              "      <td>--</td>\n",
              "      <td>NaN</td>\n",
              "      <td>Hospital Materno Infantil Dr. Florencio Escardo</td>\n",
              "      <td>-</td>\n",
              "      <td>Contacto Estrecho</td>\n",
              "      <td>FUC: 17/05</td>\n",
              "    </tr>\n",
              "    <tr>\n",
              "      <th>33349</th>\n",
              "      <td>Joaquin Nicolas</td>\n",
              "      <td>DA SILVA</td>\n",
              "      <td>4.62793e+07</td>\n",
              "      <td>1562476037</td>\n",
              "      <td>RICARDO BALBIN 1240</td>\n",
              "      <td>2004-02-12</td>\n",
              "      <td>--</td>\n",
              "      <td>NaN</td>\n",
              "      <td>Hospital Materno Infantil Dr. Florencio Escardo</td>\n",
              "      <td>-</td>\n",
              "      <td>Contacto Estrecho</td>\n",
              "      <td>FUC: 17/05</td>\n",
              "    </tr>\n",
              "    <tr>\n",
              "      <th>33350</th>\n",
              "      <td>CANDELARIA</td>\n",
              "      <td>RONDAN</td>\n",
              "      <td>5.48324e+09</td>\n",
              "      <td>1562476037</td>\n",
              "      <td>RICARDO BALBIN 1241</td>\n",
              "      <td>2015-06-01</td>\n",
              "      <td>--</td>\n",
              "      <td>NaN</td>\n",
              "      <td>Hospital Materno Infantil Dr. Florencio Escardo</td>\n",
              "      <td>-</td>\n",
              "      <td>Contacto Estrecho</td>\n",
              "      <td>FUC: 17/06 Verificar DNI erroneo</td>\n",
              "    </tr>\n",
              "    <tr>\n",
              "      <th>33352</th>\n",
              "      <td>Natalia Lorena</td>\n",
              "      <td>ALBORNOZ</td>\n",
              "      <td>2.61242e+07</td>\n",
              "      <td>1562476037</td>\n",
              "      <td>RICARDO BALBIN 1242</td>\n",
              "      <td>1977-08-09</td>\n",
              "      <td>--</td>\n",
              "      <td>NaN</td>\n",
              "      <td>Hospital Materno Infantil Dr. Florencio Escardo</td>\n",
              "      <td>-</td>\n",
              "      <td>Contacto Estrecho</td>\n",
              "      <td>FUC: 17/05</td>\n",
              "    </tr>\n",
              "    <tr>\n",
              "      <th>33366</th>\n",
              "      <td>ALEJANDRO GUSTAVO</td>\n",
              "      <td>LAGOS</td>\n",
              "      <td>3.08387e+07</td>\n",
              "      <td>1635258821</td>\n",
              "      <td>JUAN DE GARAY 2790</td>\n",
              "      <td>1984-03-21</td>\n",
              "      <td>--</td>\n",
              "      <td>NaN</td>\n",
              "      <td>Sala Central Secretaría Salud y Acción Social</td>\n",
              "      <td>-</td>\n",
              "      <td>Confirmado</td>\n",
              "      <td>\\n --- fecha de inicio de sintomas mal cargada</td>\n",
              "    </tr>\n",
              "  </tbody>\n",
              "</table>\n",
              "<p>439 rows × 12 columns</p>\n",
              "</div>"
            ],
            "text/plain": [
              "                  Nombre  ...                                        Observación\n",
              "4633               Abril  ...                                          FUC: 2/5.\n",
              "8114               Juana  ...  Pasa a sospechoso porque presento fiebre en el...\n",
              "8115              Camila  ...  FALTA primer seguimiento. MAL FUC DNI y fecha ...\n",
              "8116             Emanuel  ...                                                NaN\n",
              "8117           Joac Yair  ...                                                NaN\n",
              "...                  ...  ...                                                ...\n",
              "33348       Hugo Ricardo  ...                                         FUC: 17/05\n",
              "33349    Joaquin Nicolas  ...                                         FUC: 17/05\n",
              "33350         CANDELARIA  ...                   FUC: 17/06 Verificar DNI erroneo\n",
              "33352     Natalia Lorena  ...                                         FUC: 17/05\n",
              "33366  ALEJANDRO GUSTAVO  ...    \\n --- fecha de inicio de sintomas mal cargada \n",
              "\n",
              "[439 rows x 12 columns]"
            ]
          },
          "metadata": {
            "tags": []
          },
          "execution_count": 153
        }
      ]
    },
    {
      "cell_type": "code",
      "metadata": {
        "colab": {
          "base_uri": "https://localhost:8080/"
        },
        "id": "7fywmU79NkdN",
        "outputId": "c0af021b-7f90-4357-b62f-644a7935436b"
      },
      "source": [
        "inactivos_tigre['Clasificacion'].unique()"
      ],
      "execution_count": null,
      "outputs": [
        {
          "output_type": "execute_result",
          "data": {
            "text/plain": [
              "array(['Confirmado', 'Contacto Estrecho', 'Descartado', 'Sospechoso'],\n",
              "      dtype=object)"
            ]
          },
          "metadata": {
            "tags": []
          },
          "execution_count": 154
        }
      ]
    },
    {
      "cell_type": "code",
      "metadata": {
        "id": "0cDV1xml3KbD"
      },
      "source": [
        "CEs_tigre.to_csv('CEs_tigre.csv')\n",
        "!cp CEs_tigre.csv \"/content/drive/My Drive/Covidata_team/\""
      ],
      "execution_count": null,
      "outputs": []
    },
    {
      "cell_type": "markdown",
      "metadata": {
        "id": "K8uoVKLuJCVG"
      },
      "source": [
        "**Paso 4:** Obtención de las labels\n"
      ]
    },
    {
      "cell_type": "code",
      "metadata": {
        "id": "t87qWtAHJIEU"
      },
      "source": [
        "CEs_filtrados = CEs_tigre[CEs_tigre[\"documento\"].isin(list(sospechosos_tigre[\"documento\"])) | CEs_tigre[\"documento\"].isin(list(inactivos_tigre[\"documento\"]))].copy()"
      ],
      "execution_count": null,
      "outputs": []
    },
    {
      "cell_type": "code",
      "metadata": {
        "id": "7Zdfm6w0K3pr"
      },
      "source": [
        "df_sospechosos = sospechosos_tigre[[\"documento\",\"Clasificacion\"]].copy()\n",
        "df_inactivos =  inactivos_tigre[[\"documento\",\"Clasificacion\"]].copy()\n",
        "df_filtrados = CEs_filtrados[[\"documento\",\"Nacimiento\",\"Ultimo Contacto\",\"Observación\"]].copy()\n"
      ],
      "execution_count": null,
      "outputs": []
    },
    {
      "cell_type": "markdown",
      "metadata": {
        "id": "OCJeF8Xx3AyQ"
      },
      "source": [
        "**df_sospechosos**"
      ]
    },
    {
      "cell_type": "code",
      "metadata": {
        "colab": {
          "base_uri": "https://localhost:8080/",
          "height": 204
        },
        "id": "LHyWvstu1cDD",
        "outputId": "08f480ed-b924-431d-bb14-7024c8578223"
      },
      "source": [
        "display(df_sospechosos.head())"
      ],
      "execution_count": null,
      "outputs": [
        {
          "output_type": "display_data",
          "data": {
            "text/html": [
              "<div>\n",
              "<style scoped>\n",
              "    .dataframe tbody tr th:only-of-type {\n",
              "        vertical-align: middle;\n",
              "    }\n",
              "\n",
              "    .dataframe tbody tr th {\n",
              "        vertical-align: top;\n",
              "    }\n",
              "\n",
              "    .dataframe thead th {\n",
              "        text-align: right;\n",
              "    }\n",
              "</style>\n",
              "<table border=\"1\" class=\"dataframe\">\n",
              "  <thead>\n",
              "    <tr style=\"text-align: right;\">\n",
              "      <th></th>\n",
              "      <th>documento</th>\n",
              "      <th>Clasificacion</th>\n",
              "    </tr>\n",
              "  </thead>\n",
              "  <tbody>\n",
              "    <tr>\n",
              "      <th>2</th>\n",
              "      <td>21637695</td>\n",
              "      <td>Sospechoso</td>\n",
              "    </tr>\n",
              "    <tr>\n",
              "      <th>17</th>\n",
              "      <td>8519509</td>\n",
              "      <td>Sospechoso</td>\n",
              "    </tr>\n",
              "    <tr>\n",
              "      <th>26</th>\n",
              "      <td>37685874</td>\n",
              "      <td>Sospechoso</td>\n",
              "    </tr>\n",
              "    <tr>\n",
              "      <th>30</th>\n",
              "      <td>29171235</td>\n",
              "      <td>Sospechoso</td>\n",
              "    </tr>\n",
              "    <tr>\n",
              "      <th>42</th>\n",
              "      <td>44725230</td>\n",
              "      <td>Sospechoso</td>\n",
              "    </tr>\n",
              "  </tbody>\n",
              "</table>\n",
              "</div>"
            ],
            "text/plain": [
              "   documento Clasificacion\n",
              "2   21637695    Sospechoso\n",
              "17   8519509    Sospechoso\n",
              "26  37685874    Sospechoso\n",
              "30  29171235    Sospechoso\n",
              "42  44725230    Sospechoso"
            ]
          },
          "metadata": {
            "tags": []
          }
        }
      ]
    },
    {
      "cell_type": "markdown",
      "metadata": {
        "id": "WADQKWOy3Ipo"
      },
      "source": [
        "**df_inactivos**"
      ]
    },
    {
      "cell_type": "code",
      "metadata": {
        "colab": {
          "base_uri": "https://localhost:8080/",
          "height": 204
        },
        "id": "1nVT29qA3HZj",
        "outputId": "1aa29d1b-0918-4b37-bd83-e8a0cd7c6ae5"
      },
      "source": [
        "display(df_inactivos.head())"
      ],
      "execution_count": null,
      "outputs": [
        {
          "output_type": "display_data",
          "data": {
            "text/html": [
              "<div>\n",
              "<style scoped>\n",
              "    .dataframe tbody tr th:only-of-type {\n",
              "        vertical-align: middle;\n",
              "    }\n",
              "\n",
              "    .dataframe tbody tr th {\n",
              "        vertical-align: top;\n",
              "    }\n",
              "\n",
              "    .dataframe thead th {\n",
              "        text-align: right;\n",
              "    }\n",
              "</style>\n",
              "<table border=\"1\" class=\"dataframe\">\n",
              "  <thead>\n",
              "    <tr style=\"text-align: right;\">\n",
              "      <th></th>\n",
              "      <th>documento</th>\n",
              "      <th>Clasificacion</th>\n",
              "    </tr>\n",
              "  </thead>\n",
              "  <tbody>\n",
              "    <tr>\n",
              "      <th>1193</th>\n",
              "      <td>9.23843e+07</td>\n",
              "      <td>Confirmado</td>\n",
              "    </tr>\n",
              "    <tr>\n",
              "      <th>1345</th>\n",
              "      <td>2.36501e+07</td>\n",
              "      <td>Contacto Estrecho</td>\n",
              "    </tr>\n",
              "    <tr>\n",
              "      <th>2003</th>\n",
              "      <td>5.78982e+07</td>\n",
              "      <td>Contacto Estrecho</td>\n",
              "    </tr>\n",
              "    <tr>\n",
              "      <th>3488</th>\n",
              "      <td>3.09922e+07</td>\n",
              "      <td>Confirmado</td>\n",
              "    </tr>\n",
              "    <tr>\n",
              "      <th>4482</th>\n",
              "      <td>1.81928e+07</td>\n",
              "      <td>Contacto Estrecho</td>\n",
              "    </tr>\n",
              "  </tbody>\n",
              "</table>\n",
              "</div>"
            ],
            "text/plain": [
              "        documento      Clasificacion\n",
              "1193  9.23843e+07         Confirmado\n",
              "1345  2.36501e+07  Contacto Estrecho\n",
              "2003  5.78982e+07  Contacto Estrecho\n",
              "3488  3.09922e+07         Confirmado\n",
              "4482  1.81928e+07  Contacto Estrecho"
            ]
          },
          "metadata": {
            "tags": []
          }
        }
      ]
    },
    {
      "cell_type": "code",
      "metadata": {
        "id": "kSvlkldDMn9I"
      },
      "source": [
        "df_filtrados_sospechosos = pd.merge(df_filtrados,df_sospechosos,on=\"documento\")"
      ],
      "execution_count": null,
      "outputs": []
    },
    {
      "cell_type": "code",
      "metadata": {
        "colab": {
          "base_uri": "https://localhost:8080/",
          "height": 221
        },
        "id": "_SHC4-LHz1DY",
        "outputId": "bb6aaf5f-005a-4349-c6fe-8cf943ae37f9"
      },
      "source": [
        "display(df_filtrados_sospechosos.head())\n",
        "len(df_filtrados_sospechosos)"
      ],
      "execution_count": null,
      "outputs": [
        {
          "output_type": "display_data",
          "data": {
            "text/html": [
              "<div>\n",
              "<style scoped>\n",
              "    .dataframe tbody tr th:only-of-type {\n",
              "        vertical-align: middle;\n",
              "    }\n",
              "\n",
              "    .dataframe tbody tr th {\n",
              "        vertical-align: top;\n",
              "    }\n",
              "\n",
              "    .dataframe thead th {\n",
              "        text-align: right;\n",
              "    }\n",
              "</style>\n",
              "<table border=\"1\" class=\"dataframe\">\n",
              "  <thead>\n",
              "    <tr style=\"text-align: right;\">\n",
              "      <th></th>\n",
              "      <th>documento</th>\n",
              "      <th>Nacimiento</th>\n",
              "      <th>Ultimo Contacto</th>\n",
              "      <th>Observación</th>\n",
              "      <th>Clasificacion</th>\n",
              "    </tr>\n",
              "  </thead>\n",
              "  <tbody>\n",
              "    <tr>\n",
              "      <th>0</th>\n",
              "      <td>39593772</td>\n",
              "      <td>1996-05-08</td>\n",
              "      <td>NaN</td>\n",
              "      <td>\\n --- fecha de inicio de sintomas mal cargada</td>\n",
              "      <td>Confirmado</td>\n",
              "    </tr>\n",
              "    <tr>\n",
              "      <th>1</th>\n",
              "      <td>40624162</td>\n",
              "      <td>1997-03-10</td>\n",
              "      <td>NaN</td>\n",
              "      <td>ALISON SE HISOPO Y DIO DESCARTADA (APARECE EN ...</td>\n",
              "      <td>Sospechoso</td>\n",
              "    </tr>\n",
              "    <tr>\n",
              "      <th>2</th>\n",
              "      <td>23314897</td>\n",
              "      <td>NaT</td>\n",
              "      <td>NaN</td>\n",
              "      <td>SINTOMAS (día de inicio:): no presenta\\nSE AUT...</td>\n",
              "      <td>Confirmado</td>\n",
              "    </tr>\n",
              "    <tr>\n",
              "      <th>3</th>\n",
              "      <td>16699966</td>\n",
              "      <td>2021-04-16</td>\n",
              "      <td>2021-04-16T00:00:00-0300</td>\n",
              "      <td>16/4: es la madre de la sospechosa. Está basta...</td>\n",
              "      <td>Sospechoso</td>\n",
              "    </tr>\n",
              "    <tr>\n",
              "      <th>4</th>\n",
              "      <td>21683972</td>\n",
              "      <td>1971-02-05</td>\n",
              "      <td>2021-04-29T00:00:00-0300</td>\n",
              "      <td>SIN SÍNTOMAS. CE PERMANENTE. ES LA HIJA</td>\n",
              "      <td>Sospechoso</td>\n",
              "    </tr>\n",
              "  </tbody>\n",
              "</table>\n",
              "</div>"
            ],
            "text/plain": [
              "  documento  ... Clasificacion\n",
              "0  39593772  ...    Confirmado\n",
              "1  40624162  ...    Sospechoso\n",
              "2  23314897  ...    Confirmado\n",
              "3  16699966  ...    Sospechoso\n",
              "4  21683972  ...    Sospechoso\n",
              "\n",
              "[5 rows x 5 columns]"
            ]
          },
          "metadata": {
            "tags": []
          }
        },
        {
          "output_type": "execute_result",
          "data": {
            "text/plain": [
              "227"
            ]
          },
          "metadata": {
            "tags": []
          },
          "execution_count": 75
        }
      ]
    },
    {
      "cell_type": "code",
      "metadata": {
        "id": "mw0LglhbNCZe"
      },
      "source": [
        "df_filtrados_inactivos = pd.merge(df_filtrados,df_inactivos,on=\"documento\")"
      ],
      "execution_count": null,
      "outputs": []
    },
    {
      "cell_type": "code",
      "metadata": {
        "colab": {
          "base_uri": "https://localhost:8080/",
          "height": 436
        },
        "id": "5bhp0-w09c6l",
        "outputId": "8b49155c-828a-473b-b349-290bcf37b283"
      },
      "source": [
        "display(df_filtrados_inactivos)\n",
        "len(df_filtrados_inactivos)"
      ],
      "execution_count": null,
      "outputs": [
        {
          "output_type": "display_data",
          "data": {
            "text/html": [
              "<div>\n",
              "<style scoped>\n",
              "    .dataframe tbody tr th:only-of-type {\n",
              "        vertical-align: middle;\n",
              "    }\n",
              "\n",
              "    .dataframe tbody tr th {\n",
              "        vertical-align: top;\n",
              "    }\n",
              "\n",
              "    .dataframe thead th {\n",
              "        text-align: right;\n",
              "    }\n",
              "</style>\n",
              "<table border=\"1\" class=\"dataframe\">\n",
              "  <thead>\n",
              "    <tr style=\"text-align: right;\">\n",
              "      <th></th>\n",
              "      <th>documento</th>\n",
              "      <th>Nacimiento</th>\n",
              "      <th>Ultimo Contacto</th>\n",
              "      <th>Observación</th>\n",
              "      <th>Clasificacion</th>\n",
              "    </tr>\n",
              "  </thead>\n",
              "  <tbody>\n",
              "    <tr>\n",
              "      <th>0</th>\n",
              "      <td>21937881</td>\n",
              "      <td>1971-01-10</td>\n",
              "      <td>2021-04-30T00:00:00-0300</td>\n",
              "      <td>\\nHija de maria alicia (+), no se aislan entre...</td>\n",
              "      <td>Descartado</td>\n",
              "    </tr>\n",
              "    <tr>\n",
              "      <th>1</th>\n",
              "      <td>38992818</td>\n",
              "      <td>1977-05-12</td>\n",
              "      <td>2021-05-09T00:00:00-0300</td>\n",
              "      <td>Convive con el hermano (+). Se aislan. FUC:9/5...</td>\n",
              "      <td>Contacto Estrecho</td>\n",
              "    </tr>\n",
              "    <tr>\n",
              "      <th>2</th>\n",
              "      <td>11228779282</td>\n",
              "      <td>2019-10-02</td>\n",
              "      <td>2021-05-18T00:00:00-0300</td>\n",
              "      <td>NaN</td>\n",
              "      <td>Contacto Estrecho</td>\n",
              "    </tr>\n",
              "    <tr>\n",
              "      <th>3</th>\n",
              "      <td>95250767</td>\n",
              "      <td>1983-04-18</td>\n",
              "      <td>2021-05-18T00:00:00-0300</td>\n",
              "      <td>NaN</td>\n",
              "      <td>Contacto Estrecho</td>\n",
              "    </tr>\n",
              "    <tr>\n",
              "      <th>4</th>\n",
              "      <td>11228779281</td>\n",
              "      <td>2021-05-18</td>\n",
              "      <td>2021-05-18T00:00:00-0300</td>\n",
              "      <td>NaN</td>\n",
              "      <td>Contacto Estrecho</td>\n",
              "    </tr>\n",
              "    <tr>\n",
              "      <th>...</th>\n",
              "      <td>...</td>\n",
              "      <td>...</td>\n",
              "      <td>...</td>\n",
              "      <td>...</td>\n",
              "      <td>...</td>\n",
              "    </tr>\n",
              "    <tr>\n",
              "      <th>2062</th>\n",
              "      <td>11111111</td>\n",
              "      <td>2020-11-03</td>\n",
              "      <td>2020-11-06T00:00:00-0300</td>\n",
              "      <td>04/11/2020 Contacto fallido (turno mañana)\\n04...</td>\n",
              "      <td>Contacto Estrecho</td>\n",
              "    </tr>\n",
              "    <tr>\n",
              "      <th>2063</th>\n",
              "      <td>123456123456</td>\n",
              "      <td>NaT</td>\n",
              "      <td>2020-10-22T00:00:00-0300</td>\n",
              "      <td>NaN</td>\n",
              "      <td>Contacto Estrecho</td>\n",
              "    </tr>\n",
              "    <tr>\n",
              "      <th>2064</th>\n",
              "      <td>111111</td>\n",
              "      <td>2020-11-20</td>\n",
              "      <td>2020-09-29T00:00:00-0300</td>\n",
              "      <td>NaN</td>\n",
              "      <td>Contacto Estrecho</td>\n",
              "    </tr>\n",
              "    <tr>\n",
              "      <th>2065</th>\n",
              "      <td>35913160</td>\n",
              "      <td>NaT</td>\n",
              "      <td>NaN</td>\n",
              "      <td>SÍNTOMAS: No.\\nFIEBRE: No.\\n¿SE AUTOMEDICO?: N...</td>\n",
              "      <td>Contacto Estrecho</td>\n",
              "    </tr>\n",
              "    <tr>\n",
              "      <th>2066</th>\n",
              "      <td>NaN</td>\n",
              "      <td>NaT</td>\n",
              "      <td>2020-09-28T12:37:12-0300</td>\n",
              "      <td>NaN</td>\n",
              "      <td>Contacto Estrecho</td>\n",
              "    </tr>\n",
              "  </tbody>\n",
              "</table>\n",
              "<p>2067 rows × 5 columns</p>\n",
              "</div>"
            ],
            "text/plain": [
              "         documento  ...      Clasificacion\n",
              "0         21937881  ...         Descartado\n",
              "1         38992818  ...  Contacto Estrecho\n",
              "2      11228779282  ...  Contacto Estrecho\n",
              "3         95250767  ...  Contacto Estrecho\n",
              "4      11228779281  ...  Contacto Estrecho\n",
              "...            ...  ...                ...\n",
              "2062      11111111  ...  Contacto Estrecho\n",
              "2063  123456123456  ...  Contacto Estrecho\n",
              "2064        111111  ...  Contacto Estrecho\n",
              "2065      35913160  ...  Contacto Estrecho\n",
              "2066           NaN  ...  Contacto Estrecho\n",
              "\n",
              "[2067 rows x 5 columns]"
            ]
          },
          "metadata": {
            "tags": []
          }
        },
        {
          "output_type": "execute_result",
          "data": {
            "text/plain": [
              "2067"
            ]
          },
          "metadata": {
            "tags": []
          },
          "execution_count": 80
        }
      ]
    },
    {
      "cell_type": "code",
      "metadata": {
        "id": "fQJqnRWY0ZrS"
      },
      "source": [
        "df_integrado = pd.concat([df_filtrados_sospechosos,df_filtrados_inactivos])"
      ],
      "execution_count": null,
      "outputs": []
    },
    {
      "cell_type": "code",
      "metadata": {
        "colab": {
          "base_uri": "https://localhost:8080/"
        },
        "id": "6B59UU6v1AYc",
        "outputId": "7be6394d-4e89-4508-bd93-9c335021f521"
      },
      "source": [
        "#df_integrado2 = df_integrado.drop_duplicates(subset=\"documento\")\n",
        "#df_integrado2 = df_integrado2.dropna(subset=[\"Observación\"])\n",
        "print(len(df_integrado2[df_integrado2[\"Clasificacion\"]==\"Sospechoso\"]))\n",
        "df_integrado2[\"Clasificacion\"].unique()"
      ],
      "execution_count": null,
      "outputs": [
        {
          "output_type": "stream",
          "text": [
            "138\n"
          ],
          "name": "stdout"
        },
        {
          "output_type": "execute_result",
          "data": {
            "text/plain": [
              "array(['Confirmado', 'Sospechoso', nan, 'Descartado', 'Contacto Estrecho'],\n",
              "      dtype=object)"
            ]
          },
          "metadata": {
            "tags": []
          },
          "execution_count": 121
        }
      ]
    },
    {
      "cell_type": "code",
      "metadata": {
        "id": "kO4uGkcOIgVT"
      },
      "source": [
        "df_observaciones = df_integrado[(df_integrado[\"Clasificacion\"]==\"Confirmado\") | (df_integrado[\"Clasificacion\"]==\"Descartado\")]"
      ],
      "execution_count": null,
      "outputs": []
    },
    {
      "cell_type": "code",
      "metadata": {
        "id": "HCl0VQu-IdGb"
      },
      "source": [
        "df_observaciones = df_observaciones.dropna(subset=[\"Observación\"]).drop_duplicates(subset=[\"documento\"])\n"
      ],
      "execution_count": null,
      "outputs": []
    },
    {
      "cell_type": "code",
      "metadata": {
        "id": "mEWgKY1fTgp2"
      },
      "source": [
        "Limpieza de los dataframes\n"
      ],
      "execution_count": null,
      "outputs": []
    },
    {
      "cell_type": "markdown",
      "metadata": {
        "id": "4z_Oy-VyecWg"
      },
      "source": [
        "Obtenemos el df de contactos estrechos con las columnas de interés"
      ]
    },
    {
      "cell_type": "code",
      "metadata": {
        "id": "Je6gdUZuToIf"
      },
      "source": [
        "df_CEs = CEs_tigre[[\"documento\",\"Nacimiento\",\"Ultimo Contacto\",\"Clasificacion\",\"Observación\"]].copy()"
      ],
      "execution_count": null,
      "outputs": []
    },
    {
      "cell_type": "markdown",
      "metadata": {
        "id": "rsbNcpqad-AA"
      },
      "source": [
        "Chequeamos qué tenemos en la clasificación"
      ]
    },
    {
      "cell_type": "code",
      "metadata": {
        "colab": {
          "base_uri": "https://localhost:8080/"
        },
        "id": "mp0qtZLTd66G",
        "outputId": "8b2c5187-fad1-4156-e8e0-464cc29928a4"
      },
      "source": [
        "df_CEs[\"Clasificacion\"].unique()"
      ],
      "execution_count": null,
      "outputs": [
        {
          "output_type": "execute_result",
          "data": {
            "text/plain": [
              "array(['Contacto Estrecho'], dtype=object)"
            ]
          },
          "metadata": {
            "tags": []
          },
          "execution_count": 200
        }
      ]
    },
    {
      "cell_type": "markdown",
      "metadata": {
        "id": "Unyhy-nSel14"
      },
      "source": [
        "Como son todos CEs, no nos interesa esta columna."
      ]
    },
    {
      "cell_type": "code",
      "metadata": {
        "id": "CWVOJlsDek0h"
      },
      "source": [
        "df_CEs = df_CEs[[\"documento\",\"Nacimiento\",\"Ultimo Contacto\",\"Observación\"]]"
      ],
      "execution_count": null,
      "outputs": []
    },
    {
      "cell_type": "markdown",
      "metadata": {
        "id": "XxF6eN-qfGLO"
      },
      "source": [
        "Repetimos la limpieza con el de sospechosos\n"
      ]
    },
    {
      "cell_type": "code",
      "metadata": {
        "colab": {
          "base_uri": "https://localhost:8080/",
          "height": 204
        },
        "id": "3Pc271ChfFF4",
        "outputId": "43606b3c-84f0-43ed-9976-90d446d3fe0c"
      },
      "source": [
        "sospechosos_tigre.head()"
      ],
      "execution_count": null,
      "outputs": [
        {
          "output_type": "execute_result",
          "data": {
            "text/html": [
              "<div>\n",
              "<style scoped>\n",
              "    .dataframe tbody tr th:only-of-type {\n",
              "        vertical-align: middle;\n",
              "    }\n",
              "\n",
              "    .dataframe tbody tr th {\n",
              "        vertical-align: top;\n",
              "    }\n",
              "\n",
              "    .dataframe thead th {\n",
              "        text-align: right;\n",
              "    }\n",
              "</style>\n",
              "<table border=\"1\" class=\"dataframe\">\n",
              "  <thead>\n",
              "    <tr style=\"text-align: right;\">\n",
              "      <th></th>\n",
              "      <th>Nombre</th>\n",
              "      <th>Apellido</th>\n",
              "      <th>documento</th>\n",
              "      <th>Domicilio</th>\n",
              "      <th>Nacimiento</th>\n",
              "      <th>FApertura</th>\n",
              "      <th>FISintomas</th>\n",
              "      <th>Clasificacion</th>\n",
              "      <th>Observación</th>\n",
              "    </tr>\n",
              "  </thead>\n",
              "  <tbody>\n",
              "    <tr>\n",
              "      <th>2</th>\n",
              "      <td>ANABELA</td>\n",
              "      <td>RODRIGUEZ</td>\n",
              "      <td>21637695</td>\n",
              "      <td>ECUADOR 845</td>\n",
              "      <td>1971-01-20</td>\n",
              "      <td>2021-05-09</td>\n",
              "      <td>NaT</td>\n",
              "      <td>Sospechoso</td>\n",
              "      <td>\\n --- fecha de inicio de sintomas mal cargada</td>\n",
              "    </tr>\n",
              "    <tr>\n",
              "      <th>17</th>\n",
              "      <td>OSVALDO JORGE</td>\n",
              "      <td>GARIBALDI</td>\n",
              "      <td>8519509</td>\n",
              "      <td>COLOMBRES 80</td>\n",
              "      <td>1951-03-30</td>\n",
              "      <td>2021-05-09</td>\n",
              "      <td>NaT</td>\n",
              "      <td>Sospechoso</td>\n",
              "      <td>\\n --- fecha de inicio de sintomas mal cargada</td>\n",
              "    </tr>\n",
              "    <tr>\n",
              "      <th>26</th>\n",
              "      <td>JULIANA</td>\n",
              "      <td>CALLEJON</td>\n",
              "      <td>37685874</td>\n",
              "      <td>ARROYO ANGOSTURA 0</td>\n",
              "      <td>1991-07-21</td>\n",
              "      <td>2021-05-09</td>\n",
              "      <td>NaT</td>\n",
              "      <td>Sospechoso</td>\n",
              "      <td>\\n --- fecha de inicio de sintomas mal cargada</td>\n",
              "    </tr>\n",
              "    <tr>\n",
              "      <th>30</th>\n",
              "      <td>CRISTIAN GUILLERMO RAUL</td>\n",
              "      <td>GUZMAN</td>\n",
              "      <td>29171235</td>\n",
              "      <td>AUSTRALIA 2983</td>\n",
              "      <td>1981-11-05</td>\n",
              "      <td>2021-05-09</td>\n",
              "      <td>NaT</td>\n",
              "      <td>Sospechoso</td>\n",
              "      <td>\\n --- fecha de inicio de sintomas mal cargada</td>\n",
              "    </tr>\n",
              "    <tr>\n",
              "      <th>42</th>\n",
              "      <td>MARIA EMILIA</td>\n",
              "      <td>MARCHIORI</td>\n",
              "      <td>44725230</td>\n",
              "      <td>CHILE 3265</td>\n",
              "      <td>2003-03-10</td>\n",
              "      <td>2021-05-09</td>\n",
              "      <td>NaT</td>\n",
              "      <td>Sospechoso</td>\n",
              "      <td>\\n --- fecha de inicio de sintomas mal cargada</td>\n",
              "    </tr>\n",
              "  </tbody>\n",
              "</table>\n",
              "</div>"
            ],
            "text/plain": [
              "                     Nombre  ...                                      Observación\n",
              "2                   ANABELA  ...  \\n --- fecha de inicio de sintomas mal cargada \n",
              "17            OSVALDO JORGE  ...  \\n --- fecha de inicio de sintomas mal cargada \n",
              "26                  JULIANA  ...  \\n --- fecha de inicio de sintomas mal cargada \n",
              "30  CRISTIAN GUILLERMO RAUL  ...  \\n --- fecha de inicio de sintomas mal cargada \n",
              "42             MARIA EMILIA  ...  \\n --- fecha de inicio de sintomas mal cargada \n",
              "\n",
              "[5 rows x 9 columns]"
            ]
          },
          "metadata": {
            "tags": []
          },
          "execution_count": 304
        }
      ]
    },
    {
      "cell_type": "code",
      "metadata": {
        "id": "ARA3y3GjfMrW"
      },
      "source": [
        "df_sospechosos = sospechosos_tigre[[\"documento\",\"FApertura\",\"FISintomas\",\"Clasificacion\",\"Observación\"]].copy()"
      ],
      "execution_count": null,
      "outputs": []
    },
    {
      "cell_type": "markdown",
      "metadata": {
        "id": "377g5qnRfgQ7"
      },
      "source": [
        "Verificamos que no nos interesan las observaciones pues son inválidas."
      ]
    },
    {
      "cell_type": "code",
      "metadata": {
        "colab": {
          "base_uri": "https://localhost:8080/"
        },
        "id": "9Mtt81CPfd42",
        "outputId": "05b72263-e5dd-4d99-a070-93f8ef45e88c"
      },
      "source": [
        "df_sospechosos[\"Observación\"].unique()"
      ],
      "execution_count": null,
      "outputs": [
        {
          "output_type": "execute_result",
          "data": {
            "text/plain": [
              "array(['\\n --- fecha de inicio de sintomas mal cargada ',\n",
              "       'Solicitado por guardia Sanatorio San Lucas\\n --- fecha de inicio de sintomas mal cargada ',\n",
              "       'TEL 1149702517\\n --- fecha de inicio de sintomas mal cargada 03/05/2021',\n",
              "       ..., '22965423N\\n --- fecha de inicio de sintomas mal cargada ',\n",
              "       'fiebre dolor de garganta y dificultad respiratpria\\n --- fecha de inicio de sintomas mal cargada ',\n",
              "       'test de antigeno 19/5 positivo\\n --- fecha de inicio de sintomas mal cargada '],\n",
              "      dtype=object)"
            ]
          },
          "metadata": {
            "tags": []
          },
          "execution_count": 226
        }
      ]
    },
    {
      "cell_type": "code",
      "metadata": {
        "id": "7unaIsehfoBF"
      },
      "source": [
        "df_sospechosos = sospechosos_tigre[[\"documento\",\"FApertura\",\"Clasificacion\"]].copy()"
      ],
      "execution_count": null,
      "outputs": []
    },
    {
      "cell_type": "markdown",
      "metadata": {
        "id": "jQ9v5r2ufvjs"
      },
      "source": [
        "Veamos qué pinta tienen las clasificaciones"
      ]
    },
    {
      "cell_type": "code",
      "metadata": {
        "colab": {
          "base_uri": "https://localhost:8080/"
        },
        "id": "Pq9_fDF6ftpo",
        "outputId": "22e64f85-ba5b-4f0a-fc06-e7816398f2b6"
      },
      "source": [
        "df_sospechosos[\"Clasificacion\"].value_counts()"
      ],
      "execution_count": null,
      "outputs": [
        {
          "output_type": "execute_result",
          "data": {
            "text/plain": [
              "Sospechoso    24065\n",
              "Confirmado    21551\n",
              "Descartado        3\n",
              "Name: Clasificacion, dtype: int64"
            ]
          },
          "metadata": {
            "tags": []
          },
          "execution_count": 240
        }
      ]
    },
    {
      "cell_type": "markdown",
      "metadata": {
        "id": "CdUCzPBXgKcC"
      },
      "source": [
        "Al ver estos resultados y con el contexto que tenemos, sabemos que los sospechosos pueden contar como descartados."
      ]
    },
    {
      "cell_type": "code",
      "metadata": {
        "colab": {
          "base_uri": "https://localhost:8080/"
        },
        "id": "de_a98atgJpF",
        "outputId": "e44d1a98-99c8-4da6-8cb6-c00585cb016b"
      },
      "source": [
        "df_sospechosos.loc[df_sospechosos['Clasificacion'] == \"Sospechoso\", \"Clasificacion\"] = \"Descartado\"\n",
        "df_sospechosos[\"Clasificacion\"].value_counts()"
      ],
      "execution_count": null,
      "outputs": [
        {
          "output_type": "execute_result",
          "data": {
            "text/plain": [
              "Descartado    24068\n",
              "Confirmado    21551\n",
              "Name: Clasificacion, dtype: int64"
            ]
          },
          "metadata": {
            "tags": []
          },
          "execution_count": 241
        }
      ]
    },
    {
      "cell_type": "code",
      "metadata": {
        "colab": {
          "base_uri": "https://localhost:8080/",
          "height": 530
        },
        "id": "5W65taskhLm6",
        "outputId": "51354da1-d219-41b6-d7cd-0d81a8261dd6"
      },
      "source": [
        "inactivos_tigre.head()"
      ],
      "execution_count": null,
      "outputs": [
        {
          "output_type": "execute_result",
          "data": {
            "text/html": [
              "<div>\n",
              "<style scoped>\n",
              "    .dataframe tbody tr th:only-of-type {\n",
              "        vertical-align: middle;\n",
              "    }\n",
              "\n",
              "    .dataframe tbody tr th {\n",
              "        vertical-align: top;\n",
              "    }\n",
              "\n",
              "    .dataframe thead th {\n",
              "        text-align: right;\n",
              "    }\n",
              "</style>\n",
              "<table border=\"1\" class=\"dataframe\">\n",
              "  <thead>\n",
              "    <tr style=\"text-align: right;\">\n",
              "      <th></th>\n",
              "      <th>Nombre</th>\n",
              "      <th>Apellido</th>\n",
              "      <th>documento</th>\n",
              "      <th>Teléfono</th>\n",
              "      <th>Domicilio</th>\n",
              "      <th>Nacimiento</th>\n",
              "      <th>Dias_con_sintomas</th>\n",
              "      <th>Ultimo Contacto</th>\n",
              "      <th>Establecimiento</th>\n",
              "      <th>Seguimientos_pendientes</th>\n",
              "      <th>Clasificacion</th>\n",
              "      <th>Observación</th>\n",
              "    </tr>\n",
              "  </thead>\n",
              "  <tbody>\n",
              "    <tr>\n",
              "      <th>1193</th>\n",
              "      <td>RICHARD WASHINGTON</td>\n",
              "      <td>AYRALA</td>\n",
              "      <td>9.23843e+07</td>\n",
              "      <td>1168017085</td>\n",
              "      <td>WILLIAMS 22</td>\n",
              "      <td>1961-12-06</td>\n",
              "      <td>--</td>\n",
              "      <td>NaN</td>\n",
              "      <td>Hospital Materno Infantil Dr. Florencio Escardo</td>\n",
              "      <td>11</td>\n",
              "      <td>Confirmado</td>\n",
              "      <td>\\n --- fecha de inicio de sintomas mal cargada</td>\n",
              "    </tr>\n",
              "    <tr>\n",
              "      <th>1345</th>\n",
              "      <td>Walter</td>\n",
              "      <td>Tolosa</td>\n",
              "      <td>2.36501e+07</td>\n",
              "      <td>1554687825</td>\n",
              "      <td>pedir</td>\n",
              "      <td>2021-04-22</td>\n",
              "      <td>--</td>\n",
              "      <td>NaN</td>\n",
              "      <td>Hospital Materno Infantil Dr. Florencio Escardo</td>\n",
              "      <td>-</td>\n",
              "      <td>Contacto Estrecho</td>\n",
              "      <td>Hacer 1º seguimiento, FUC: 16/4? chequear (Vín...</td>\n",
              "    </tr>\n",
              "    <tr>\n",
              "      <th>2003</th>\n",
              "      <td>Emilia</td>\n",
              "      <td>MARTINEZ</td>\n",
              "      <td>5.78982e+07</td>\n",
              "      <td>1124863722</td>\n",
              "      <td>FRAY M ESQUIU 716</td>\n",
              "      <td>2019-09-13</td>\n",
              "      <td>--</td>\n",
              "      <td>NaN</td>\n",
              "      <td>Hospital Materno Infantil Dr. Florencio Escardo</td>\n",
              "      <td>6</td>\n",
              "      <td>Contacto Estrecho</td>\n",
              "      <td>El padre es (+) y la madre (Lucia) también. \\n...</td>\n",
              "    </tr>\n",
              "    <tr>\n",
              "      <th>3488</th>\n",
              "      <td>RAUL RICARDO</td>\n",
              "      <td>PEREYRA</td>\n",
              "      <td>3.09922e+07</td>\n",
              "      <td>1140419753</td>\n",
              "      <td>VICTOR HUGO 2217</td>\n",
              "      <td>1984-08-02</td>\n",
              "      <td>--</td>\n",
              "      <td>NaN</td>\n",
              "      <td>Hospital Materno Infantil Dr. Florencio Escardo</td>\n",
              "      <td>12</td>\n",
              "      <td>Confirmado</td>\n",
              "      <td>\\n --- fecha de inicio de sintomas mal cargada</td>\n",
              "    </tr>\n",
              "    <tr>\n",
              "      <th>4482</th>\n",
              "      <td>Monica Isabel</td>\n",
              "      <td>PEREYRA</td>\n",
              "      <td>1.81928e+07</td>\n",
              "      <td>47273123</td>\n",
              "      <td>CAMACUA 3789</td>\n",
              "      <td>1967-03-06</td>\n",
              "      <td>--</td>\n",
              "      <td>NaN</td>\n",
              "      <td>Hospital Materno Infantil Dr. Florencio Escardo</td>\n",
              "      <td>2</td>\n",
              "      <td>Contacto Estrecho</td>\n",
              "      <td>FUC 25/4. Esposa conviviente. Preguntar por el...</td>\n",
              "    </tr>\n",
              "  </tbody>\n",
              "</table>\n",
              "</div>"
            ],
            "text/plain": [
              "                  Nombre  ...                                        Observación\n",
              "1193  RICHARD WASHINGTON  ...    \\n --- fecha de inicio de sintomas mal cargada \n",
              "1345              Walter  ...  Hacer 1º seguimiento, FUC: 16/4? chequear (Vín...\n",
              "2003              Emilia  ...  El padre es (+) y la madre (Lucia) también. \\n...\n",
              "3488        RAUL RICARDO  ...    \\n --- fecha de inicio de sintomas mal cargada \n",
              "4482       Monica Isabel  ...  FUC 25/4. Esposa conviviente. Preguntar por el...\n",
              "\n",
              "[5 rows x 12 columns]"
            ]
          },
          "metadata": {
            "tags": []
          },
          "execution_count": 303
        }
      ]
    },
    {
      "cell_type": "code",
      "metadata": {
        "id": "VQBjefLzhUrJ"
      },
      "source": [
        "df_inactivos = inactivos_tigre[[\"documento\",\"Clasificacion\",\"Observación\"]].copy()"
      ],
      "execution_count": null,
      "outputs": []
    },
    {
      "cell_type": "code",
      "metadata": {
        "id": "AGyeoq5Zh8ol"
      },
      "source": [
        "sospechosos_y_CE = pd.merge(df_sospechosos,df_CEs,on=\"documento\")"
      ],
      "execution_count": null,
      "outputs": []
    },
    {
      "cell_type": "markdown",
      "metadata": {
        "id": "7KcgqjBWiwOu"
      },
      "source": [
        "Sacamos los NA molestos para hacer análisis de texto"
      ]
    },
    {
      "cell_type": "code",
      "metadata": {
        "id": "O__tLxtqigUg"
      },
      "source": [
        "sospechosos_y_CE = sospechosos_y_CE.dropna(subset=[\"Observación\",\"Clasificacion\"])"
      ],
      "execution_count": null,
      "outputs": []
    },
    {
      "cell_type": "code",
      "metadata": {
        "colab": {
          "base_uri": "https://localhost:8080/",
          "height": 204
        },
        "id": "eSATnVBji6s3",
        "outputId": "bc4f7f0f-749e-4750-e4b4-2eedf10c9677"
      },
      "source": [
        "sospechosos_y_CE.head()"
      ],
      "execution_count": null,
      "outputs": [
        {
          "output_type": "execute_result",
          "data": {
            "text/html": [
              "<div>\n",
              "<style scoped>\n",
              "    .dataframe tbody tr th:only-of-type {\n",
              "        vertical-align: middle;\n",
              "    }\n",
              "\n",
              "    .dataframe tbody tr th {\n",
              "        vertical-align: top;\n",
              "    }\n",
              "\n",
              "    .dataframe thead th {\n",
              "        text-align: right;\n",
              "    }\n",
              "</style>\n",
              "<table border=\"1\" class=\"dataframe\">\n",
              "  <thead>\n",
              "    <tr style=\"text-align: right;\">\n",
              "      <th></th>\n",
              "      <th>documento</th>\n",
              "      <th>FApertura</th>\n",
              "      <th>Clasificacion</th>\n",
              "      <th>Nacimiento</th>\n",
              "      <th>Ultimo Contacto</th>\n",
              "      <th>Observación</th>\n",
              "    </tr>\n",
              "  </thead>\n",
              "  <tbody>\n",
              "    <tr>\n",
              "      <th>0</th>\n",
              "      <td>43087241</td>\n",
              "      <td>2021-05-08</td>\n",
              "      <td>Descartado</td>\n",
              "      <td>2001-02-20</td>\n",
              "      <td>2020-12-17T00:00:00-0300</td>\n",
              "      <td>Atiende gabriela salom (positivo, le dan el al...</td>\n",
              "    </tr>\n",
              "    <tr>\n",
              "      <th>1</th>\n",
              "      <td>40762085</td>\n",
              "      <td>2021-04-16</td>\n",
              "      <td>Descartado</td>\n",
              "      <td>1994-11-10</td>\n",
              "      <td>2021-04-27T00:00:00-0300</td>\n",
              "      <td>\\nno se aisla del caso conf.</td>\n",
              "    </tr>\n",
              "    <tr>\n",
              "      <th>2</th>\n",
              "      <td>36553715</td>\n",
              "      <td>2021-04-22</td>\n",
              "      <td>Confirmado</td>\n",
              "      <td>1992-01-21</td>\n",
              "      <td>NaN</td>\n",
              "      <td>acompañante</td>\n",
              "    </tr>\n",
              "    <tr>\n",
              "      <th>3</th>\n",
              "      <td>42419804</td>\n",
              "      <td>2021-03-31</td>\n",
              "      <td>Descartado</td>\n",
              "      <td>2000-02-23</td>\n",
              "      <td>2021-03-26T00:00:00-0300</td>\n",
              "      <td>Alta: 9/4 (Se aisla del vínculo). El trabajo l...</td>\n",
              "    </tr>\n",
              "    <tr>\n",
              "      <th>4</th>\n",
              "      <td>94451766</td>\n",
              "      <td>2021-03-23</td>\n",
              "      <td>Descartado</td>\n",
              "      <td>1983-05-20</td>\n",
              "      <td>2021-04-15T00:00:00-0300</td>\n",
              "      <td>\\nFUC: 15/4\\nManzo miguel ángel el 10/04/2021 ...</td>\n",
              "    </tr>\n",
              "  </tbody>\n",
              "</table>\n",
              "</div>"
            ],
            "text/plain": [
              "  documento  ...                                        Observación\n",
              "0  43087241  ...  Atiende gabriela salom (positivo, le dan el al...\n",
              "1  40762085  ...                       \\nno se aisla del caso conf.\n",
              "2  36553715  ...                                        acompañante\n",
              "3  42419804  ...  Alta: 9/4 (Se aisla del vínculo). El trabajo l...\n",
              "4  94451766  ...  \\nFUC: 15/4\\nManzo miguel ángel el 10/04/2021 ...\n",
              "\n",
              "[5 rows x 6 columns]"
            ]
          },
          "metadata": {
            "tags": []
          },
          "execution_count": 282
        }
      ]
    },
    {
      "cell_type": "markdown",
      "metadata": {
        "id": "NlV9kgD8i3ey"
      },
      "source": [
        "Ahora hacemos el merge de CE e inactivos"
      ]
    },
    {
      "cell_type": "code",
      "metadata": {
        "id": "Wv_AnaAdikct"
      },
      "source": [
        "inactivos_y_CE = pd.merge(df_inactivos,df_CEs,on=\"documento\")"
      ],
      "execution_count": null,
      "outputs": []
    },
    {
      "cell_type": "code",
      "metadata": {
        "colab": {
          "base_uri": "https://localhost:8080/",
          "height": 419
        },
        "id": "J7-dc6geji-e",
        "outputId": "7f19a5b0-8a64-479f-d85f-dd12f74b991a"
      },
      "source": [
        "inactivos_y_CE"
      ],
      "execution_count": null,
      "outputs": [
        {
          "output_type": "execute_result",
          "data": {
            "text/html": [
              "<div>\n",
              "<style scoped>\n",
              "    .dataframe tbody tr th:only-of-type {\n",
              "        vertical-align: middle;\n",
              "    }\n",
              "\n",
              "    .dataframe tbody tr th {\n",
              "        vertical-align: top;\n",
              "    }\n",
              "\n",
              "    .dataframe thead th {\n",
              "        text-align: right;\n",
              "    }\n",
              "</style>\n",
              "<table border=\"1\" class=\"dataframe\">\n",
              "  <thead>\n",
              "    <tr style=\"text-align: right;\">\n",
              "      <th></th>\n",
              "      <th>documento</th>\n",
              "      <th>Clasificacion</th>\n",
              "      <th>Observación_x</th>\n",
              "      <th>Nacimiento</th>\n",
              "      <th>Ultimo Contacto</th>\n",
              "      <th>Observación_y</th>\n",
              "    </tr>\n",
              "  </thead>\n",
              "  <tbody>\n",
              "    <tr>\n",
              "      <th>0</th>\n",
              "      <td>9.23843e+07</td>\n",
              "      <td>Confirmado</td>\n",
              "      <td>\\n --- fecha de inicio de sintomas mal cargada</td>\n",
              "      <td>1961-12-06</td>\n",
              "      <td>2021-04-16T00:00:00-0300</td>\n",
              "      <td>FUC: 15/4. Esperando para hisoparse (tuvo dolo...</td>\n",
              "    </tr>\n",
              "    <tr>\n",
              "      <th>1</th>\n",
              "      <td>2.36501e+07</td>\n",
              "      <td>Contacto Estrecho</td>\n",
              "      <td>Hacer 1º seguimiento, FUC: 16/4? chequear (Vín...</td>\n",
              "      <td>2021-04-22</td>\n",
              "      <td>2021-04-16T00:00:00-0300</td>\n",
              "      <td>Hacer 1º seguimiento, FUC: 16/4? chequear (Vín...</td>\n",
              "    </tr>\n",
              "    <tr>\n",
              "      <th>2</th>\n",
              "      <td>5.78982e+07</td>\n",
              "      <td>Contacto Estrecho</td>\n",
              "      <td>El padre es (+) y la madre (Lucia) también. \\n...</td>\n",
              "      <td>2019-09-13</td>\n",
              "      <td>2021-05-04T00:00:00-0300</td>\n",
              "      <td>El padre es (+) y la madre (Lucia) también. \\n...</td>\n",
              "    </tr>\n",
              "    <tr>\n",
              "      <th>3</th>\n",
              "      <td>3.09922e+07</td>\n",
              "      <td>Confirmado</td>\n",
              "      <td>\\n --- fecha de inicio de sintomas mal cargada</td>\n",
              "      <td>1984-08-02</td>\n",
              "      <td>2021-04-17T00:00:00-0300</td>\n",
              "      <td>FUC: pedir alta Alexis (sospechoso, no se aísl...</td>\n",
              "    </tr>\n",
              "    <tr>\n",
              "      <th>4</th>\n",
              "      <td>1.81928e+07</td>\n",
              "      <td>Contacto Estrecho</td>\n",
              "      <td>FUC 25/4. Esposa conviviente. Preguntar por el...</td>\n",
              "      <td>1967-03-06</td>\n",
              "      <td>2021-04-25T00:00:00-0300</td>\n",
              "      <td>FUC 25/4. Esposa conviviente. Preguntar por el...</td>\n",
              "    </tr>\n",
              "    <tr>\n",
              "      <th>...</th>\n",
              "      <td>...</td>\n",
              "      <td>...</td>\n",
              "      <td>...</td>\n",
              "      <td>...</td>\n",
              "      <td>...</td>\n",
              "      <td>...</td>\n",
              "    </tr>\n",
              "    <tr>\n",
              "      <th>2062</th>\n",
              "      <td>5.04888e+07</td>\n",
              "      <td>Confirmado</td>\n",
              "      <td>\\n --- fecha de inicio de sintomas mal cargada</td>\n",
              "      <td>2021-05-17</td>\n",
              "      <td>2021-05-17T00:00:00-0300</td>\n",
              "      <td>Atiende Braian (+) padre de quiara. No se aisl...</td>\n",
              "    </tr>\n",
              "    <tr>\n",
              "      <th>2063</th>\n",
              "      <td>5.82115e+08</td>\n",
              "      <td>Contacto Estrecho</td>\n",
              "      <td>Atiende Braian (+) padre de Enzo (tiene 6 mese...</td>\n",
              "      <td>2021-05-17</td>\n",
              "      <td>2021-05-17T00:00:00-0300</td>\n",
              "      <td>Atiende Braian (+) padre de Enzo (tiene 6 mese...</td>\n",
              "    </tr>\n",
              "    <tr>\n",
              "      <th>2064</th>\n",
              "      <td>4.97399e+07</td>\n",
              "      <td>Contacto Estrecho</td>\n",
              "      <td>Atiende Christian Greppi. FUC: 16/5 (alta de a...</td>\n",
              "      <td>2009-09-15</td>\n",
              "      <td>2021-05-16T00:00:00-0300</td>\n",
              "      <td>Atiende Christian Greppi. FUC: 16/5 (alta de a...</td>\n",
              "    </tr>\n",
              "    <tr>\n",
              "      <th>2065</th>\n",
              "      <td>4.56827e+07</td>\n",
              "      <td>Contacto Estrecho</td>\n",
              "      <td>Atiende Noemi. FUC: 18/5 (alta de la madre +)....</td>\n",
              "      <td>2004-03-15</td>\n",
              "      <td>2021-05-17T00:00:00-0300</td>\n",
              "      <td>Atiende Noemi. FUC: 18/5 (alta de la madre +)....</td>\n",
              "    </tr>\n",
              "    <tr>\n",
              "      <th>2066</th>\n",
              "      <td>5.2415e+07</td>\n",
              "      <td>Contacto Estrecho</td>\n",
              "      <td>Alta: 27/5. Actualizar FUC: 17/5 (alta de los ...</td>\n",
              "      <td>2012-04-30</td>\n",
              "      <td>2021-05-17T00:00:00-0300</td>\n",
              "      <td>Alta: 27/5. Actualizar FUC: 17/5 (alta de los ...</td>\n",
              "    </tr>\n",
              "  </tbody>\n",
              "</table>\n",
              "<p>2067 rows × 6 columns</p>\n",
              "</div>"
            ],
            "text/plain": [
              "        documento  ...                                      Observación_y\n",
              "0     9.23843e+07  ...  FUC: 15/4. Esperando para hisoparse (tuvo dolo...\n",
              "1     2.36501e+07  ...  Hacer 1º seguimiento, FUC: 16/4? chequear (Vín...\n",
              "2     5.78982e+07  ...  El padre es (+) y la madre (Lucia) también. \\n...\n",
              "3     3.09922e+07  ...  FUC: pedir alta Alexis (sospechoso, no se aísl...\n",
              "4     1.81928e+07  ...  FUC 25/4. Esposa conviviente. Preguntar por el...\n",
              "...           ...  ...                                                ...\n",
              "2062  5.04888e+07  ...  Atiende Braian (+) padre de quiara. No se aisl...\n",
              "2063  5.82115e+08  ...  Atiende Braian (+) padre de Enzo (tiene 6 mese...\n",
              "2064  4.97399e+07  ...  Atiende Christian Greppi. FUC: 16/5 (alta de a...\n",
              "2065  4.56827e+07  ...  Atiende Noemi. FUC: 18/5 (alta de la madre +)....\n",
              "2066   5.2415e+07  ...  Alta: 27/5. Actualizar FUC: 17/5 (alta de los ...\n",
              "\n",
              "[2067 rows x 6 columns]"
            ]
          },
          "metadata": {
            "tags": []
          },
          "execution_count": 268
        }
      ]
    },
    {
      "cell_type": "code",
      "metadata": {
        "colab": {
          "base_uri": "https://localhost:8080/"
        },
        "id": "eZ8f8-3KkSjB",
        "outputId": "026726a0-a2d9-468e-b59a-d52be8f86634"
      },
      "source": [
        "len(inactivos_y_CE[inactivos_y_CE[\"Clasificacion\"]!=\"Contacto Estrecho\"])"
      ],
      "execution_count": null,
      "outputs": [
        {
          "output_type": "execute_result",
          "data": {
            "text/plain": [
              "212"
            ]
          },
          "metadata": {
            "tags": []
          },
          "execution_count": 269
        }
      ]
    },
    {
      "cell_type": "markdown",
      "metadata": {
        "id": "OSWsT8K6mXeX"
      },
      "source": [
        "Verificamos que las observaciones no existentes en y tampoco existen en x. Nos podemos quedar solo con observacion X\n"
      ]
    },
    {
      "cell_type": "code",
      "metadata": {
        "colab": {
          "base_uri": "https://localhost:8080/",
          "height": 762
        },
        "id": "Uq8KtLONlr_4",
        "outputId": "3bcd68ca-cac4-4b92-d21b-847c223297c5"
      },
      "source": [
        "inactivos_y_CE[inactivos_y_CE[\"Observación_y\"] == \"\\n --- fecha de inicio de sintomas mal cargada \"]"
      ],
      "execution_count": null,
      "outputs": [
        {
          "output_type": "execute_result",
          "data": {
            "text/html": [
              "<div>\n",
              "<style scoped>\n",
              "    .dataframe tbody tr th:only-of-type {\n",
              "        vertical-align: middle;\n",
              "    }\n",
              "\n",
              "    .dataframe tbody tr th {\n",
              "        vertical-align: top;\n",
              "    }\n",
              "\n",
              "    .dataframe thead th {\n",
              "        text-align: right;\n",
              "    }\n",
              "</style>\n",
              "<table border=\"1\" class=\"dataframe\">\n",
              "  <thead>\n",
              "    <tr style=\"text-align: right;\">\n",
              "      <th></th>\n",
              "      <th>documento</th>\n",
              "      <th>Clasificacion</th>\n",
              "      <th>Observación_x</th>\n",
              "      <th>Nacimiento</th>\n",
              "      <th>Ultimo Contacto</th>\n",
              "      <th>Observación_y</th>\n",
              "    </tr>\n",
              "  </thead>\n",
              "  <tbody>\n",
              "    <tr>\n",
              "      <th>348</th>\n",
              "      <td>36689322</td>\n",
              "      <td>Descartado</td>\n",
              "      <td>\\n --- fecha de inicio de sintomas mal cargada</td>\n",
              "      <td>1992-02-08</td>\n",
              "      <td>2021-01-15T00:00:00-0300</td>\n",
              "      <td>\\n --- fecha de inicio de sintomas mal cargada</td>\n",
              "    </tr>\n",
              "    <tr>\n",
              "      <th>364</th>\n",
              "      <td>20628467</td>\n",
              "      <td>Contacto Estrecho</td>\n",
              "      <td>\\n --- fecha de inicio de sintomas mal cargada</td>\n",
              "      <td>1969-06-17</td>\n",
              "      <td>2021-01-18T00:00:00-0300</td>\n",
              "      <td>\\n --- fecha de inicio de sintomas mal cargada</td>\n",
              "    </tr>\n",
              "    <tr>\n",
              "      <th>373</th>\n",
              "      <td>29382697</td>\n",
              "      <td>Confirmado</td>\n",
              "      <td>\\n --- fecha de inicio de sintomas mal cargada</td>\n",
              "      <td>1982-04-26</td>\n",
              "      <td>2021-01-27T00:00:00-0300</td>\n",
              "      <td>\\n --- fecha de inicio de sintomas mal cargada</td>\n",
              "    </tr>\n",
              "    <tr>\n",
              "      <th>409</th>\n",
              "      <td>3.61485e+07</td>\n",
              "      <td>Confirmado</td>\n",
              "      <td>\\n --- fecha de inicio de sintomas mal cargada...</td>\n",
              "      <td>1991-04-02</td>\n",
              "      <td>2021-01-25T00:00:00-0300</td>\n",
              "      <td>\\n --- fecha de inicio de sintomas mal cargada</td>\n",
              "    </tr>\n",
              "    <tr>\n",
              "      <th>421</th>\n",
              "      <td>2.17865e+07</td>\n",
              "      <td>Contacto Estrecho</td>\n",
              "      <td>\\n --- fecha de inicio de sintomas mal cargada</td>\n",
              "      <td>1970-11-20</td>\n",
              "      <td>2021-02-02T00:00:00-0300</td>\n",
              "      <td>\\n --- fecha de inicio de sintomas mal cargada</td>\n",
              "    </tr>\n",
              "    <tr>\n",
              "      <th>450</th>\n",
              "      <td>2.56788e+07</td>\n",
              "      <td>Descartado</td>\n",
              "      <td>\\n --- fecha de inicio de sintomas mal cargada</td>\n",
              "      <td>1977-01-20</td>\n",
              "      <td>2021-01-30T00:00:00-0300</td>\n",
              "      <td>\\n --- fecha de inicio de sintomas mal cargada</td>\n",
              "    </tr>\n",
              "    <tr>\n",
              "      <th>571</th>\n",
              "      <td>4.44822e+07</td>\n",
              "      <td>Descartado</td>\n",
              "      <td>\\n --- fecha de inicio de sintomas mal cargada</td>\n",
              "      <td>2002-09-20</td>\n",
              "      <td>2021-02-19T00:00:00-0300</td>\n",
              "      <td>\\n --- fecha de inicio de sintomas mal cargada</td>\n",
              "    </tr>\n",
              "    <tr>\n",
              "      <th>586</th>\n",
              "      <td>2.74289e+07</td>\n",
              "      <td>Contacto Estrecho</td>\n",
              "      <td>\\n --- fecha de inicio de sintomas mal cargada</td>\n",
              "      <td>1979-08-19</td>\n",
              "      <td>2021-02-23T00:00:00-0300</td>\n",
              "      <td>\\n --- fecha de inicio de sintomas mal cargada</td>\n",
              "    </tr>\n",
              "    <tr>\n",
              "      <th>629</th>\n",
              "      <td>1.82055e+07</td>\n",
              "      <td>Descartado</td>\n",
              "      <td>\\n --- fecha de inicio de sintomas mal cargada</td>\n",
              "      <td>1966-10-16</td>\n",
              "      <td>2021-02-27T00:00:00-0300</td>\n",
              "      <td>\\n --- fecha de inicio de sintomas mal cargada</td>\n",
              "    </tr>\n",
              "    <tr>\n",
              "      <th>831</th>\n",
              "      <td>2.00288e+07</td>\n",
              "      <td>Descartado</td>\n",
              "      <td>\\n --- fecha de inicio de sintomas mal cargada</td>\n",
              "      <td>1968-04-01</td>\n",
              "      <td>2021-03-22T00:00:00-0300</td>\n",
              "      <td>\\n --- fecha de inicio de sintomas mal cargada</td>\n",
              "    </tr>\n",
              "    <tr>\n",
              "      <th>832</th>\n",
              "      <td>4.41624e+07</td>\n",
              "      <td>Descartado</td>\n",
              "      <td>\\n --- fecha de inicio de sintomas mal cargada</td>\n",
              "      <td>2002-06-09</td>\n",
              "      <td>2021-03-22T00:00:00-0300</td>\n",
              "      <td>\\n --- fecha de inicio de sintomas mal cargada</td>\n",
              "    </tr>\n",
              "    <tr>\n",
              "      <th>1214</th>\n",
              "      <td>3.12784e+07</td>\n",
              "      <td>Descartado</td>\n",
              "      <td>\\n --- fecha de inicio de sintomas mal cargada</td>\n",
              "      <td>1984-12-29</td>\n",
              "      <td>2021-04-14T00:00:00-0300</td>\n",
              "      <td>\\n --- fecha de inicio de sintomas mal cargada</td>\n",
              "    </tr>\n",
              "    <tr>\n",
              "      <th>1275</th>\n",
              "      <td>2.28967e+07</td>\n",
              "      <td>Descartado</td>\n",
              "      <td>\\n --- fecha de inicio de sintomas mal cargada</td>\n",
              "      <td>1973-01-04</td>\n",
              "      <td>2021-04-17T00:00:00-0300</td>\n",
              "      <td>\\n --- fecha de inicio de sintomas mal cargada</td>\n",
              "    </tr>\n",
              "    <tr>\n",
              "      <th>1277</th>\n",
              "      <td>1.86266e+07</td>\n",
              "      <td>Descartado</td>\n",
              "      <td>\\n --- fecha de inicio de sintomas mal cargada</td>\n",
              "      <td>1967-10-31</td>\n",
              "      <td>2021-04-16T00:00:00-0300</td>\n",
              "      <td>\\n --- fecha de inicio de sintomas mal cargada</td>\n",
              "    </tr>\n",
              "    <tr>\n",
              "      <th>1377</th>\n",
              "      <td>3.13148e+07</td>\n",
              "      <td>Confirmado</td>\n",
              "      <td>\\n --- fecha de inicio de sintomas mal cargada</td>\n",
              "      <td>1985-01-27</td>\n",
              "      <td>2021-04-19T00:00:00-0300</td>\n",
              "      <td>\\n --- fecha de inicio de sintomas mal cargada</td>\n",
              "    </tr>\n",
              "    <tr>\n",
              "      <th>1509</th>\n",
              "      <td>2.49501e+07</td>\n",
              "      <td>Contacto Estrecho</td>\n",
              "      <td>\\n --- fecha de inicio de sintomas mal cargada</td>\n",
              "      <td>1975-09-21</td>\n",
              "      <td>2021-04-26T00:00:00-0300</td>\n",
              "      <td>\\n --- fecha de inicio de sintomas mal cargada</td>\n",
              "    </tr>\n",
              "    <tr>\n",
              "      <th>1579</th>\n",
              "      <td>9.21946e+07</td>\n",
              "      <td>Contacto Estrecho</td>\n",
              "      <td>\\n --- fecha de inicio de sintomas mal cargada</td>\n",
              "      <td>1945-01-18</td>\n",
              "      <td>2021-04-29T00:00:00-0300</td>\n",
              "      <td>\\n --- fecha de inicio de sintomas mal cargada</td>\n",
              "    </tr>\n",
              "    <tr>\n",
              "      <th>1581</th>\n",
              "      <td>2.63676e+07</td>\n",
              "      <td>Contacto Estrecho</td>\n",
              "      <td>\\n --- fecha de inicio de sintomas mal cargada</td>\n",
              "      <td>1978-05-15</td>\n",
              "      <td>2021-04-29T00:00:00-0300</td>\n",
              "      <td>\\n --- fecha de inicio de sintomas mal cargada</td>\n",
              "    </tr>\n",
              "    <tr>\n",
              "      <th>1754</th>\n",
              "      <td>3.57424e+07</td>\n",
              "      <td>Descartado</td>\n",
              "      <td>\\n --- fecha de inicio de sintomas mal cargada</td>\n",
              "      <td>1992-05-04</td>\n",
              "      <td>2021-05-06T00:00:00-0300</td>\n",
              "      <td>\\n --- fecha de inicio de sintomas mal cargada</td>\n",
              "    </tr>\n",
              "    <tr>\n",
              "      <th>1829</th>\n",
              "      <td>3.65601e+07</td>\n",
              "      <td>Descartado</td>\n",
              "      <td>\\n --- fecha de inicio de sintomas mal cargada</td>\n",
              "      <td>1991-07-20</td>\n",
              "      <td>2021-05-10T00:00:00-0300</td>\n",
              "      <td>\\n --- fecha de inicio de sintomas mal cargada</td>\n",
              "    </tr>\n",
              "    <tr>\n",
              "      <th>1830</th>\n",
              "      <td>3.89377e+07</td>\n",
              "      <td>Descartado</td>\n",
              "      <td>\\n --- fecha de inicio de sintomas mal cargada</td>\n",
              "      <td>1997-05-29</td>\n",
              "      <td>2021-05-10T00:00:00-0300</td>\n",
              "      <td>\\n --- fecha de inicio de sintomas mal cargada</td>\n",
              "    </tr>\n",
              "    <tr>\n",
              "      <th>1934</th>\n",
              "      <td>2.5365e+07</td>\n",
              "      <td>Descartado</td>\n",
              "      <td>\\n --- fecha de inicio de sintomas mal cargada</td>\n",
              "      <td>1976-08-21</td>\n",
              "      <td>2021-05-18T00:00:00-0300</td>\n",
              "      <td>\\n --- fecha de inicio de sintomas mal cargada</td>\n",
              "    </tr>\n",
              "    <tr>\n",
              "      <th>2050</th>\n",
              "      <td>3.31961e+07</td>\n",
              "      <td>Descartado</td>\n",
              "      <td>\\n --- fecha de inicio de sintomas mal cargada</td>\n",
              "      <td>1987-07-28</td>\n",
              "      <td>2021-05-27T00:00:00-0300</td>\n",
              "      <td>\\n --- fecha de inicio de sintomas mal cargada</td>\n",
              "    </tr>\n",
              "  </tbody>\n",
              "</table>\n",
              "</div>"
            ],
            "text/plain": [
              "        documento  ...                                    Observación_y\n",
              "348      36689322  ...  \\n --- fecha de inicio de sintomas mal cargada \n",
              "364      20628467  ...  \\n --- fecha de inicio de sintomas mal cargada \n",
              "373      29382697  ...  \\n --- fecha de inicio de sintomas mal cargada \n",
              "409   3.61485e+07  ...  \\n --- fecha de inicio de sintomas mal cargada \n",
              "421   2.17865e+07  ...  \\n --- fecha de inicio de sintomas mal cargada \n",
              "450   2.56788e+07  ...  \\n --- fecha de inicio de sintomas mal cargada \n",
              "571   4.44822e+07  ...  \\n --- fecha de inicio de sintomas mal cargada \n",
              "586   2.74289e+07  ...  \\n --- fecha de inicio de sintomas mal cargada \n",
              "629   1.82055e+07  ...  \\n --- fecha de inicio de sintomas mal cargada \n",
              "831   2.00288e+07  ...  \\n --- fecha de inicio de sintomas mal cargada \n",
              "832   4.41624e+07  ...  \\n --- fecha de inicio de sintomas mal cargada \n",
              "1214  3.12784e+07  ...  \\n --- fecha de inicio de sintomas mal cargada \n",
              "1275  2.28967e+07  ...  \\n --- fecha de inicio de sintomas mal cargada \n",
              "1277  1.86266e+07  ...  \\n --- fecha de inicio de sintomas mal cargada \n",
              "1377  3.13148e+07  ...  \\n --- fecha de inicio de sintomas mal cargada \n",
              "1509  2.49501e+07  ...  \\n --- fecha de inicio de sintomas mal cargada \n",
              "1579  9.21946e+07  ...  \\n --- fecha de inicio de sintomas mal cargada \n",
              "1581  2.63676e+07  ...  \\n --- fecha de inicio de sintomas mal cargada \n",
              "1754  3.57424e+07  ...  \\n --- fecha de inicio de sintomas mal cargada \n",
              "1829  3.65601e+07  ...  \\n --- fecha de inicio de sintomas mal cargada \n",
              "1830  3.89377e+07  ...  \\n --- fecha de inicio de sintomas mal cargada \n",
              "1934   2.5365e+07  ...  \\n --- fecha de inicio de sintomas mal cargada \n",
              "2050  3.31961e+07  ...  \\n --- fecha de inicio de sintomas mal cargada \n",
              "\n",
              "[23 rows x 6 columns]"
            ]
          },
          "metadata": {
            "tags": []
          },
          "execution_count": 283
        }
      ]
    },
    {
      "cell_type": "code",
      "metadata": {
        "id": "JCaJW7TanAR9"
      },
      "source": [
        "inactivos_y_CE = inactivos_y_CE[[\"documento\",\"Clasificacion\",\"Observación_y\",\"Ultimo Contacto\",\"Nacimiento\"]]"
      ],
      "execution_count": null,
      "outputs": []
    },
    {
      "cell_type": "code",
      "metadata": {
        "id": "ElfU-HS6njrl"
      },
      "source": [
        "inactivos_y_CE = inactivos_y_CE.rename(columns={\"Observación_y\":\"Observación\"})"
      ],
      "execution_count": null,
      "outputs": []
    },
    {
      "cell_type": "code",
      "metadata": {
        "colab": {
          "base_uri": "https://localhost:8080/",
          "height": 204
        },
        "id": "-k3EWQTLnqES",
        "outputId": "7373e2d7-1056-4a3b-c0a0-70549812d4a7"
      },
      "source": [
        "inactivos_y_CE.head()"
      ],
      "execution_count": null,
      "outputs": [
        {
          "output_type": "execute_result",
          "data": {
            "text/html": [
              "<div>\n",
              "<style scoped>\n",
              "    .dataframe tbody tr th:only-of-type {\n",
              "        vertical-align: middle;\n",
              "    }\n",
              "\n",
              "    .dataframe tbody tr th {\n",
              "        vertical-align: top;\n",
              "    }\n",
              "\n",
              "    .dataframe thead th {\n",
              "        text-align: right;\n",
              "    }\n",
              "</style>\n",
              "<table border=\"1\" class=\"dataframe\">\n",
              "  <thead>\n",
              "    <tr style=\"text-align: right;\">\n",
              "      <th></th>\n",
              "      <th>documento</th>\n",
              "      <th>Clasificacion</th>\n",
              "      <th>Observación</th>\n",
              "      <th>Ultimo Contacto</th>\n",
              "      <th>Nacimiento</th>\n",
              "    </tr>\n",
              "  </thead>\n",
              "  <tbody>\n",
              "    <tr>\n",
              "      <th>0</th>\n",
              "      <td>9.23843e+07</td>\n",
              "      <td>Confirmado</td>\n",
              "      <td>FUC: 15/4. Esperando para hisoparse (tuvo dolo...</td>\n",
              "      <td>2021-04-16T00:00:00-0300</td>\n",
              "      <td>1961-12-06</td>\n",
              "    </tr>\n",
              "    <tr>\n",
              "      <th>1</th>\n",
              "      <td>2.36501e+07</td>\n",
              "      <td>Contacto Estrecho</td>\n",
              "      <td>Hacer 1º seguimiento, FUC: 16/4? chequear (Vín...</td>\n",
              "      <td>2021-04-16T00:00:00-0300</td>\n",
              "      <td>2021-04-22</td>\n",
              "    </tr>\n",
              "    <tr>\n",
              "      <th>2</th>\n",
              "      <td>5.78982e+07</td>\n",
              "      <td>Contacto Estrecho</td>\n",
              "      <td>El padre es (+) y la madre (Lucia) también. \\n...</td>\n",
              "      <td>2021-05-04T00:00:00-0300</td>\n",
              "      <td>2019-09-13</td>\n",
              "    </tr>\n",
              "    <tr>\n",
              "      <th>3</th>\n",
              "      <td>3.09922e+07</td>\n",
              "      <td>Confirmado</td>\n",
              "      <td>FUC: pedir alta Alexis (sospechoso, no se aísl...</td>\n",
              "      <td>2021-04-17T00:00:00-0300</td>\n",
              "      <td>1984-08-02</td>\n",
              "    </tr>\n",
              "    <tr>\n",
              "      <th>4</th>\n",
              "      <td>1.81928e+07</td>\n",
              "      <td>Contacto Estrecho</td>\n",
              "      <td>FUC 25/4. Esposa conviviente. Preguntar por el...</td>\n",
              "      <td>2021-04-25T00:00:00-0300</td>\n",
              "      <td>1967-03-06</td>\n",
              "    </tr>\n",
              "  </tbody>\n",
              "</table>\n",
              "</div>"
            ],
            "text/plain": [
              "     documento      Clasificacion  ...           Ultimo Contacto Nacimiento\n",
              "0  9.23843e+07         Confirmado  ...  2021-04-16T00:00:00-0300 1961-12-06\n",
              "1  2.36501e+07  Contacto Estrecho  ...  2021-04-16T00:00:00-0300 2021-04-22\n",
              "2  5.78982e+07  Contacto Estrecho  ...  2021-05-04T00:00:00-0300 2019-09-13\n",
              "3  3.09922e+07         Confirmado  ...  2021-04-17T00:00:00-0300 1984-08-02\n",
              "4  1.81928e+07  Contacto Estrecho  ...  2021-04-25T00:00:00-0300 1967-03-06\n",
              "\n",
              "[5 rows x 5 columns]"
            ]
          },
          "metadata": {
            "tags": []
          },
          "execution_count": 298
        }
      ]
    },
    {
      "cell_type": "code",
      "metadata": {
        "id": "dbiyDbsYnTmr"
      },
      "source": [
        "inactivos_y_CE = inactivos_y_CE.dropna(subset=[\"Observación\",\"Clasificacion\"])"
      ],
      "execution_count": null,
      "outputs": []
    },
    {
      "cell_type": "code",
      "metadata": {
        "colab": {
          "base_uri": "https://localhost:8080/"
        },
        "id": "2x_adHwloC5C",
        "outputId": "bec95b38-cdb4-47c8-ee27-40c72ca7dbbd"
      },
      "source": [
        "inactivos_y_CE[\"Clasificacion\"].value_counts()"
      ],
      "execution_count": null,
      "outputs": [
        {
          "output_type": "execute_result",
          "data": {
            "text/plain": [
              "Contacto Estrecho    1568\n",
              "Descartado             94\n",
              "Confirmado             66\n",
              "Sospechoso              5\n",
              "Name: Clasificacion, dtype: int64"
            ]
          },
          "metadata": {
            "tags": []
          },
          "execution_count": 306
        }
      ]
    },
    {
      "cell_type": "code",
      "metadata": {
        "id": "itiWx8R9oeOL"
      },
      "source": [
        "inactivos_y_CE.loc[inactivos_y_CE['Clasificacion'] == \"Sospechoso\", \"Clasificacion\"] = \"Descartado\""
      ],
      "execution_count": null,
      "outputs": []
    },
    {
      "cell_type": "code",
      "metadata": {
        "colab": {
          "base_uri": "https://localhost:8080/"
        },
        "id": "Ic0usFA-oo6z",
        "outputId": "7579f426-f842-4135-ab51-995a45795d61"
      },
      "source": [
        "inactivos_y_CE[\"Clasificacion\"].value_counts()"
      ],
      "execution_count": null,
      "outputs": [
        {
          "output_type": "execute_result",
          "data": {
            "text/plain": [
              "Contacto Estrecho    1568\n",
              "Descartado             99\n",
              "Confirmado             66\n",
              "Name: Clasificacion, dtype: int64"
            ]
          },
          "metadata": {
            "tags": []
          },
          "execution_count": 309
        }
      ]
    },
    {
      "cell_type": "code",
      "metadata": {
        "id": "j0VZ-gYUoq60"
      },
      "source": [
        "inactivos_y_CE = inactivos_y_CE[inactivos_y_CE[\"Clasificacion\"] != \"Contacto Estrecho\"]"
      ],
      "execution_count": null,
      "outputs": []
    },
    {
      "cell_type": "code",
      "metadata": {
        "colab": {
          "base_uri": "https://localhost:8080/"
        },
        "id": "0wOr58v9ox6N",
        "outputId": "4864e73d-3b76-4bc1-e90c-53f4e6ad2c6b"
      },
      "source": [
        "len(inactivos_y_CE)"
      ],
      "execution_count": null,
      "outputs": [
        {
          "output_type": "execute_result",
          "data": {
            "text/plain": [
              "165"
            ]
          },
          "metadata": {
            "tags": []
          },
          "execution_count": 316
        }
      ]
    },
    {
      "cell_type": "code",
      "metadata": {
        "colab": {
          "base_uri": "https://localhost:8080/"
        },
        "id": "GOchnAMPo3Gy",
        "outputId": "3a440d9a-1f41-4892-b16f-ee2116ec281e"
      },
      "source": [
        "inactivos_y_CE[\"Clasificacion\"].value_counts()"
      ],
      "execution_count": null,
      "outputs": [
        {
          "output_type": "execute_result",
          "data": {
            "text/plain": [
              "Descartado    99\n",
              "Confirmado    66\n",
              "Name: Clasificacion, dtype: int64"
            ]
          },
          "metadata": {
            "tags": []
          },
          "execution_count": 318
        }
      ]
    },
    {
      "cell_type": "code",
      "metadata": {
        "id": "yXlJ6E9CsIB_"
      },
      "source": [
        "df_final = pd.concat([sospechosos_y_CE,inactivos_y_CE])"
      ],
      "execution_count": null,
      "outputs": []
    },
    {
      "cell_type": "code",
      "metadata": {
        "colab": {
          "base_uri": "https://localhost:8080/"
        },
        "id": "qO8PNi-osRQQ",
        "outputId": "cfc6162f-78e6-4707-d218-4adb8df1e1f3"
      },
      "source": [
        ""
      ],
      "execution_count": null,
      "outputs": [
        {
          "output_type": "execute_result",
          "data": {
            "text/plain": [
              "294"
            ]
          },
          "metadata": {
            "tags": []
          },
          "execution_count": 325
        }
      ]
    },
    {
      "cell_type": "code",
      "metadata": {
        "id": "48bcGSQSs5fS"
      },
      "source": [
        "df_final = df_final.drop_duplicates(subset=[\"documento\"],keep=\"first\").copy()"
      ],
      "execution_count": null,
      "outputs": []
    },
    {
      "cell_type": "code",
      "metadata": {
        "colab": {
          "base_uri": "https://localhost:8080/"
        },
        "id": "Te3iOO47ta84",
        "outputId": "92bad24c-32c1-453c-a970-10d5a58c5da7"
      },
      "source": [
        "len(df_final)"
      ],
      "execution_count": null,
      "outputs": [
        {
          "output_type": "execute_result",
          "data": {
            "text/plain": [
              "294"
            ]
          },
          "metadata": {
            "tags": []
          },
          "execution_count": 340
        }
      ]
    },
    {
      "cell_type": "code",
      "metadata": {
        "colab": {
          "base_uri": "https://localhost:8080/",
          "height": 419
        },
        "id": "7DDOusxStceO",
        "outputId": "f210d45c-8e2a-45f3-a8ae-c268c5458d1c"
      },
      "source": [
        "df_final"
      ],
      "execution_count": null,
      "outputs": [
        {
          "output_type": "execute_result",
          "data": {
            "text/html": [
              "<div>\n",
              "<style scoped>\n",
              "    .dataframe tbody tr th:only-of-type {\n",
              "        vertical-align: middle;\n",
              "    }\n",
              "\n",
              "    .dataframe tbody tr th {\n",
              "        vertical-align: top;\n",
              "    }\n",
              "\n",
              "    .dataframe thead th {\n",
              "        text-align: right;\n",
              "    }\n",
              "</style>\n",
              "<table border=\"1\" class=\"dataframe\">\n",
              "  <thead>\n",
              "    <tr style=\"text-align: right;\">\n",
              "      <th></th>\n",
              "      <th>documento</th>\n",
              "      <th>FApertura</th>\n",
              "      <th>Clasificacion</th>\n",
              "      <th>Nacimiento</th>\n",
              "      <th>Ultimo Contacto</th>\n",
              "      <th>Observación</th>\n",
              "    </tr>\n",
              "  </thead>\n",
              "  <tbody>\n",
              "    <tr>\n",
              "      <th>0</th>\n",
              "      <td>43087241</td>\n",
              "      <td>2021-05-08</td>\n",
              "      <td>Descartado</td>\n",
              "      <td>2001-02-20</td>\n",
              "      <td>2020-12-17T00:00:00-0300</td>\n",
              "      <td>Atiende gabriela salom (positivo, le dan el al...</td>\n",
              "    </tr>\n",
              "    <tr>\n",
              "      <th>1</th>\n",
              "      <td>40762085</td>\n",
              "      <td>2021-04-16</td>\n",
              "      <td>Descartado</td>\n",
              "      <td>1994-11-10</td>\n",
              "      <td>2021-04-27T00:00:00-0300</td>\n",
              "      <td>\\nno se aisla del caso conf.</td>\n",
              "    </tr>\n",
              "    <tr>\n",
              "      <th>2</th>\n",
              "      <td>36553715</td>\n",
              "      <td>2021-04-22</td>\n",
              "      <td>Confirmado</td>\n",
              "      <td>1992-01-21</td>\n",
              "      <td>NaN</td>\n",
              "      <td>acompañante</td>\n",
              "    </tr>\n",
              "    <tr>\n",
              "      <th>3</th>\n",
              "      <td>42419804</td>\n",
              "      <td>2021-03-31</td>\n",
              "      <td>Descartado</td>\n",
              "      <td>2000-02-23</td>\n",
              "      <td>2021-03-26T00:00:00-0300</td>\n",
              "      <td>Alta: 9/4 (Se aisla del vínculo). El trabajo l...</td>\n",
              "    </tr>\n",
              "    <tr>\n",
              "      <th>4</th>\n",
              "      <td>94451766</td>\n",
              "      <td>2021-03-23</td>\n",
              "      <td>Descartado</td>\n",
              "      <td>1983-05-20</td>\n",
              "      <td>2021-04-15T00:00:00-0300</td>\n",
              "      <td>\\nFUC: 15/4\\nManzo miguel ángel el 10/04/2021 ...</td>\n",
              "    </tr>\n",
              "    <tr>\n",
              "      <th>...</th>\n",
              "      <td>...</td>\n",
              "      <td>...</td>\n",
              "      <td>...</td>\n",
              "      <td>...</td>\n",
              "      <td>...</td>\n",
              "      <td>...</td>\n",
              "    </tr>\n",
              "    <tr>\n",
              "      <th>1997</th>\n",
              "      <td>9.25437e+07</td>\n",
              "      <td>NaT</td>\n",
              "      <td>Descartado</td>\n",
              "      <td>2021-05-21</td>\n",
              "      <td>2021-05-19T00:00:00-0300</td>\n",
              "      <td>FUC 19/5. La hija y su ex mujer dieron +. Ella...</td>\n",
              "    </tr>\n",
              "    <tr>\n",
              "      <th>2006</th>\n",
              "      <td>4.29082e+07</td>\n",
              "      <td>NaT</td>\n",
              "      <td>Confirmado</td>\n",
              "      <td>2021-05-21</td>\n",
              "      <td>2021-05-20T00:00:00-0300</td>\n",
              "      <td>Atiende Angela, esposa de marcelo (+), madre d...</td>\n",
              "    </tr>\n",
              "    <tr>\n",
              "      <th>2039</th>\n",
              "      <td>3.8007e+07</td>\n",
              "      <td>NaT</td>\n",
              "      <td>Descartado</td>\n",
              "      <td>1994-04-26</td>\n",
              "      <td>2021-05-22T00:00:00-0300</td>\n",
              "      <td>FUC: 22/05. Son compañeres del trabajo de dani...</td>\n",
              "    </tr>\n",
              "    <tr>\n",
              "      <th>2050</th>\n",
              "      <td>3.31961e+07</td>\n",
              "      <td>NaT</td>\n",
              "      <td>Descartado</td>\n",
              "      <td>1987-07-28</td>\n",
              "      <td>2021-05-27T00:00:00-0300</td>\n",
              "      <td>\\n --- fecha de inicio de sintomas mal cargada</td>\n",
              "    </tr>\n",
              "    <tr>\n",
              "      <th>2062</th>\n",
              "      <td>5.04888e+07</td>\n",
              "      <td>NaT</td>\n",
              "      <td>Confirmado</td>\n",
              "      <td>2021-05-17</td>\n",
              "      <td>2021-05-17T00:00:00-0300</td>\n",
              "      <td>Atiende Braian (+) padre de quiara. No se aisl...</td>\n",
              "    </tr>\n",
              "  </tbody>\n",
              "</table>\n",
              "<p>294 rows × 6 columns</p>\n",
              "</div>"
            ],
            "text/plain": [
              "        documento  ...                                        Observación\n",
              "0        43087241  ...  Atiende gabriela salom (positivo, le dan el al...\n",
              "1        40762085  ...                       \\nno se aisla del caso conf.\n",
              "2        36553715  ...                                        acompañante\n",
              "3        42419804  ...  Alta: 9/4 (Se aisla del vínculo). El trabajo l...\n",
              "4        94451766  ...  \\nFUC: 15/4\\nManzo miguel ángel el 10/04/2021 ...\n",
              "...           ...  ...                                                ...\n",
              "1997  9.25437e+07  ...  FUC 19/5. La hija y su ex mujer dieron +. Ella...\n",
              "2006  4.29082e+07  ...  Atiende Angela, esposa de marcelo (+), madre d...\n",
              "2039   3.8007e+07  ...  FUC: 22/05. Son compañeres del trabajo de dani...\n",
              "2050  3.31961e+07  ...    \\n --- fecha de inicio de sintomas mal cargada \n",
              "2062  5.04888e+07  ...  Atiende Braian (+) padre de quiara. No se aisl...\n",
              "\n",
              "[294 rows x 6 columns]"
            ]
          },
          "metadata": {
            "tags": []
          },
          "execution_count": 341
        }
      ]
    },
    {
      "cell_type": "code",
      "metadata": {
        "id": "c8FNE9XHuu0J"
      },
      "source": [
        "df_final.loc[df_final['Clasificacion'] == \"Descartado\", \"Clasificacion\"] = 0\n",
        "df_final.loc[df_final['Clasificacion'] == \"Confirmado\", \"Clasificacion\"] = 1"
      ],
      "execution_count": null,
      "outputs": []
    },
    {
      "cell_type": "code",
      "metadata": {
        "colab": {
          "base_uri": "https://localhost:8080/",
          "height": 419
        },
        "id": "WNTWHp5Ou0ot",
        "outputId": "48b6a5d0-17f3-4ea9-fa3e-983b8b394a6e"
      },
      "source": [
        "df_final"
      ],
      "execution_count": null,
      "outputs": [
        {
          "output_type": "execute_result",
          "data": {
            "text/html": [
              "<div>\n",
              "<style scoped>\n",
              "    .dataframe tbody tr th:only-of-type {\n",
              "        vertical-align: middle;\n",
              "    }\n",
              "\n",
              "    .dataframe tbody tr th {\n",
              "        vertical-align: top;\n",
              "    }\n",
              "\n",
              "    .dataframe thead th {\n",
              "        text-align: right;\n",
              "    }\n",
              "</style>\n",
              "<table border=\"1\" class=\"dataframe\">\n",
              "  <thead>\n",
              "    <tr style=\"text-align: right;\">\n",
              "      <th></th>\n",
              "      <th>documento</th>\n",
              "      <th>FApertura</th>\n",
              "      <th>Clasificacion</th>\n",
              "      <th>Nacimiento</th>\n",
              "      <th>Ultimo Contacto</th>\n",
              "      <th>Observación</th>\n",
              "    </tr>\n",
              "  </thead>\n",
              "  <tbody>\n",
              "    <tr>\n",
              "      <th>0</th>\n",
              "      <td>43087241</td>\n",
              "      <td>2021-05-08</td>\n",
              "      <td>0</td>\n",
              "      <td>2001-02-20</td>\n",
              "      <td>2020-12-17T00:00:00-0300</td>\n",
              "      <td>Atiende gabriela salom (positivo, le dan el al...</td>\n",
              "    </tr>\n",
              "    <tr>\n",
              "      <th>1</th>\n",
              "      <td>40762085</td>\n",
              "      <td>2021-04-16</td>\n",
              "      <td>0</td>\n",
              "      <td>1994-11-10</td>\n",
              "      <td>2021-04-27T00:00:00-0300</td>\n",
              "      <td>\\nno se aisla del caso conf.</td>\n",
              "    </tr>\n",
              "    <tr>\n",
              "      <th>2</th>\n",
              "      <td>36553715</td>\n",
              "      <td>2021-04-22</td>\n",
              "      <td>1</td>\n",
              "      <td>1992-01-21</td>\n",
              "      <td>NaN</td>\n",
              "      <td>acompañante</td>\n",
              "    </tr>\n",
              "    <tr>\n",
              "      <th>3</th>\n",
              "      <td>42419804</td>\n",
              "      <td>2021-03-31</td>\n",
              "      <td>0</td>\n",
              "      <td>2000-02-23</td>\n",
              "      <td>2021-03-26T00:00:00-0300</td>\n",
              "      <td>Alta: 9/4 (Se aisla del vínculo). El trabajo l...</td>\n",
              "    </tr>\n",
              "    <tr>\n",
              "      <th>4</th>\n",
              "      <td>94451766</td>\n",
              "      <td>2021-03-23</td>\n",
              "      <td>0</td>\n",
              "      <td>1983-05-20</td>\n",
              "      <td>2021-04-15T00:00:00-0300</td>\n",
              "      <td>\\nFUC: 15/4\\nManzo miguel ángel el 10/04/2021 ...</td>\n",
              "    </tr>\n",
              "    <tr>\n",
              "      <th>...</th>\n",
              "      <td>...</td>\n",
              "      <td>...</td>\n",
              "      <td>...</td>\n",
              "      <td>...</td>\n",
              "      <td>...</td>\n",
              "      <td>...</td>\n",
              "    </tr>\n",
              "    <tr>\n",
              "      <th>1997</th>\n",
              "      <td>9.25437e+07</td>\n",
              "      <td>NaT</td>\n",
              "      <td>0</td>\n",
              "      <td>2021-05-21</td>\n",
              "      <td>2021-05-19T00:00:00-0300</td>\n",
              "      <td>FUC 19/5. La hija y su ex mujer dieron +. Ella...</td>\n",
              "    </tr>\n",
              "    <tr>\n",
              "      <th>2006</th>\n",
              "      <td>4.29082e+07</td>\n",
              "      <td>NaT</td>\n",
              "      <td>1</td>\n",
              "      <td>2021-05-21</td>\n",
              "      <td>2021-05-20T00:00:00-0300</td>\n",
              "      <td>Atiende Angela, esposa de marcelo (+), madre d...</td>\n",
              "    </tr>\n",
              "    <tr>\n",
              "      <th>2039</th>\n",
              "      <td>3.8007e+07</td>\n",
              "      <td>NaT</td>\n",
              "      <td>0</td>\n",
              "      <td>1994-04-26</td>\n",
              "      <td>2021-05-22T00:00:00-0300</td>\n",
              "      <td>FUC: 22/05. Son compañeres del trabajo de dani...</td>\n",
              "    </tr>\n",
              "    <tr>\n",
              "      <th>2050</th>\n",
              "      <td>3.31961e+07</td>\n",
              "      <td>NaT</td>\n",
              "      <td>0</td>\n",
              "      <td>1987-07-28</td>\n",
              "      <td>2021-05-27T00:00:00-0300</td>\n",
              "      <td>\\n --- fecha de inicio de sintomas mal cargada</td>\n",
              "    </tr>\n",
              "    <tr>\n",
              "      <th>2062</th>\n",
              "      <td>5.04888e+07</td>\n",
              "      <td>NaT</td>\n",
              "      <td>1</td>\n",
              "      <td>2021-05-17</td>\n",
              "      <td>2021-05-17T00:00:00-0300</td>\n",
              "      <td>Atiende Braian (+) padre de quiara. No se aisl...</td>\n",
              "    </tr>\n",
              "  </tbody>\n",
              "</table>\n",
              "<p>294 rows × 6 columns</p>\n",
              "</div>"
            ],
            "text/plain": [
              "        documento  ...                                        Observación\n",
              "0        43087241  ...  Atiende gabriela salom (positivo, le dan el al...\n",
              "1        40762085  ...                       \\nno se aisla del caso conf.\n",
              "2        36553715  ...                                        acompañante\n",
              "3        42419804  ...  Alta: 9/4 (Se aisla del vínculo). El trabajo l...\n",
              "4        94451766  ...  \\nFUC: 15/4\\nManzo miguel ángel el 10/04/2021 ...\n",
              "...           ...  ...                                                ...\n",
              "1997  9.25437e+07  ...  FUC 19/5. La hija y su ex mujer dieron +. Ella...\n",
              "2006  4.29082e+07  ...  Atiende Angela, esposa de marcelo (+), madre d...\n",
              "2039   3.8007e+07  ...  FUC: 22/05. Son compañeres del trabajo de dani...\n",
              "2050  3.31961e+07  ...    \\n --- fecha de inicio de sintomas mal cargada \n",
              "2062  5.04888e+07  ...  Atiende Braian (+) padre de quiara. No se aisl...\n",
              "\n",
              "[294 rows x 6 columns]"
            ]
          },
          "metadata": {
            "tags": []
          },
          "execution_count": 344
        }
      ]
    },
    {
      "cell_type": "code",
      "metadata": {
        "id": "6Lrq84OsvFBm"
      },
      "source": [
        "location = '/content/drive/My Drive/Covidata_team/df_final.csv' \n",
        "df_final.to_csv(location)"
      ],
      "execution_count": null,
      "outputs": []
    }
  ]
}